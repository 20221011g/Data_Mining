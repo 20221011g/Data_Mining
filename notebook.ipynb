{
 "cells": [
  {
   "cell_type": "markdown",
   "id": "d2deb706-03fe-48ba-b389-a08e6b9d852d",
   "metadata": {
    "id": "d2deb706-03fe-48ba-b389-a08e6b9d852d"
   },
   "source": [
    "# Table of Contents\n",
    "- 1) [Imports](#imports)   \n",
    "- 2) [Data Understanding](#data_understanding)   \n",
    "- 3) [Data Visualization](#data_Visualization)   \n",
    "- 4) [Data Preprocessing](#data_reprocessing) \n",
    "   - 4.1) [Data Cleaning](#data_cleaning)  \n",
    "   - 4.2) [Features Engineering](#features_engineering)\n",
    "   - 4.3) [Data Scaling](#data_scaling)\n",
    "   - 4.4) [Feature Selection](#feature_selection)\n",
    "- 5) [Clustering](#clustering)\n",
    "   - 5.1) [DBSCAN](#dbscan)\n",
    "   - 5.2) [KMeans](#kmeans)\n",
    "   - 5.3) [KMedoids](#kmedoids)\n",
    "   - 5.4) [Hierarchical Clustering](#hclustering)\n",
    "- 6) [EXTRA - Semi-Supervised Learning](#semi_learning)\n",
    "\n"
   ]
  },
  {
   "cell_type": "markdown",
   "id": "f0f4a65c-d522-497f-b148-47b868496cb0",
   "metadata": {
    "tags": []
   },
   "source": [
    "<div class=\"alert alert-block alert-info\">\n",
    "<a class=\"anchor\" id=\"imports\"> \n",
    "<h1>1. Imports</h1>\n",
    "</a>    \n",
    "</div>"
   ]
  },
  {
   "cell_type": "code",
   "execution_count": null,
   "id": "bb95e71c-e470-4aa7-8494-589303d78224",
   "metadata": {
    "id": "bb95e71c-e470-4aa7-8494-589303d78224"
   },
   "outputs": [],
   "source": [
    "# Packages\n",
    "import os\n",
    "import numpy as np\n",
    "from numpy import percentile\n",
    "import pandas as pd\n",
    "import matplotlib.pyplot as plt\n",
    "from matplotlib import ticker\n",
    "import seaborn as sns\n",
    "import re\n",
    "import statistics\n",
    "import scipy\n",
    "from scipy import stats\n",
    "import collections\n",
    "from collections import Counter\n",
    "# import statsmodels.api as smi\n",
    "import pylab\n",
    "\n",
    "from minisom import MiniSom\n",
    "\n",
    "from sklearn import metrics\n",
    "from sklearn.model_selection import train_test_split\n",
    "from sklearn.cluster import (DBSCAN, \n",
    "                             KMeans,\n",
    "                             AgglomerativeClustering)\n",
    "from sklearn_extra.cluster import KMedoids\n",
    "from sklearn.neighbors import NearestNeighbors\n",
    "from sklearn.experimental import enable_iterative_imputer\n",
    "from sklearn.impute import MissingIndicator, IterativeImputer\n",
    "from sklearn.impute import SimpleImputer, KNNImputer\n",
    "from sklearn.preprocessing import (MinMaxScaler, \n",
    "                                   StandardScaler, \n",
    "                                   OneHotEncoder,\n",
    "                                   KBinsDiscretizer,\n",
    "                                   OrdinalEncoder)\n",
    "\n",
    "from sklearn.decomposition import PCA\n",
    "from sklearn.manifold import TSNE\n",
    "from sklearn.metrics import silhouette_score, f1_score\n",
    "from xgboost import XGBClassifier\n",
    "from sklearn.base import BaseEstimator, TransformerMixin\n",
    "from sklearn.compose import ColumnTransformer\n",
    "from sklearn.pipeline import Pipeline\n",
    "\n",
    "from scipy.cluster.vq import whiten\n",
    "from scipy.cluster.hierarchy import (dendrogram, \n",
    "                                     fcluster, \n",
    "                                     linkage,\n",
    "                                     set_link_color_palette)\n",
    "\n",
    "import plotly.express as px\n",
    "from plotly.subplots import make_subplots\n",
    "import plotly.graph_objects as go\n",
    "\n",
    "from matplotlib.patches import RegularPolygon, Ellipse\n",
    "from mpl_toolkits.axes_grid1 import make_axes_locatable\n",
    "from matplotlib import cm, colorbar\n",
    "from matplotlib import colors as mpl_colors\n",
    "\n",
    "from matplotlib.lines import Line2D\n",
    "import seaborn as sns\n",
    "\n",
    "from matplotlib import __version__ as mplver\n",
    "plt.rcParams['figure.dpi'] = 50\n",
    "\n",
    "import warnings\n",
    "from itertools import product\n",
    "# from pandas_profiling import ProfileReport\n",
    "import sqlite3\n",
    "from math import ceil\n",
    "#from yellowbrick.cluster import intercluster_distance\n",
    "warnings.filterwarnings(\"ignore\")\n",
    "\n",
    "import plotly.io as pio\n",
    "pio.templates.default = 'plotly_white'"
   ]
  },
  {
   "cell_type": "markdown",
   "id": "2afb4890-7f12-413d-8189-0f49ddb5d386",
   "metadata": {
    "id": "2afb4890-7f12-413d-8189-0f49ddb5d386"
   },
   "source": [
    "<div class=\"alert alert-block alert-info\">\n",
    "<a class=\"anchor\" id=\"data_understanding\"> \n",
    "<h1>2. Data Understanding</h1>\n",
    "</a>    \n",
    "</div>"
   ]
  },
  {
   "cell_type": "code",
   "execution_count": null,
   "id": "T0CiirG7ZMiL",
   "metadata": {
    "id": "T0CiirG7ZMiL"
   },
   "outputs": [],
   "source": [
    "# only for google colab\n",
    "# comment the cell if you are running locally\n",
    "# from google.colab import drive\n",
    "# drive.mount('/content/drive')"
   ]
  },
  {
   "cell_type": "code",
   "execution_count": null,
   "id": "bae5d90a-6bad-41ea-bf09-881a23eb5877",
   "metadata": {
    "id": "bae5d90a-6bad-41ea-bf09-881a23eb5877"
   },
   "outputs": [],
   "source": [
    "# Loading the dataset and visualizing summary statistics\n",
    "data_orig = pd.read_sas('a2z_insurance.sas7bdat',\n",
    "                        encoding='unicode_escape', format='sas7bdat', index='CustID')\n",
    "\n",
    "# location of file in google drive, file must be on the root folder of google drive\n",
    "# data_orig = pd.read_sas('./drive/MyDrive/a2z_insurance.sas7bdat',\n",
    "#                         encoding='unicode_escape', format='sas7bdat', index='CustID')\n",
    "\n",
    "\n",
    "data = data_orig.copy()\n",
    "data.index = data.index.astype('int64')\n",
    "data.describe(include='all').T"
   ]
  },
  {
   "cell_type": "code",
   "execution_count": null,
   "id": "e9460dee-9537-42ae-8ab1-e9f6c2c149ce",
   "metadata": {
    "id": "e9460dee-9537-42ae-8ab1-e9f6c2c149ce"
   },
   "outputs": [],
   "source": [
    "# Obtaining the shape of the dataset\n",
    "data.shape"
   ]
  },
  {
   "cell_type": "code",
   "execution_count": null,
   "id": "84a91b76-6e3a-40c1-a454-fab45cf4a35d",
   "metadata": {
    "id": "84a91b76-6e3a-40c1-a454-fab45cf4a35d"
   },
   "outputs": [],
   "source": [
    "# Show top rows\n",
    "data.head()"
   ]
  },
  {
   "cell_type": "code",
   "execution_count": null,
   "id": "de3e85e5-fd38-4ccc-96e9-48b2c2d00044",
   "metadata": {
    "id": "de3e85e5-fd38-4ccc-96e9-48b2c2d00044"
   },
   "outputs": [],
   "source": [
    "# check the data types\n",
    "data.dtypes"
   ]
  },
  {
   "cell_type": "code",
   "execution_count": null,
   "id": "6627ab2e-c11b-4031-9636-6944ca015292",
   "metadata": {
    "id": "6627ab2e-c11b-4031-9636-6944ca015292"
   },
   "outputs": [],
   "source": [
    "# Check missing values\n",
    "data.isnull().sum()"
   ]
  },
  {
   "cell_type": "markdown",
   "id": "caae4842-fa7c-4a6d-9a40-2e6182e4277c",
   "metadata": {
    "id": "caae4842-fa7c-4a6d-9a40-2e6182e4277c"
   },
   "source": [
    "There are 389 missing values in our dataset\n",
    "\n",
    "From the DataFrame below, we can notice that in percentage, there is a small number of missing values and dropping them could be a viable option."
   ]
  },
  {
   "cell_type": "code",
   "execution_count": null,
   "id": "a8ddd080-b1e4-4221-8959-453768b1fe3d",
   "metadata": {
    "id": "a8ddd080-b1e4-4221-8959-453768b1fe3d"
   },
   "outputs": [],
   "source": [
    "#Checking missing in %\n",
    "# this lines calculates the percentage of missing values\n",
    "# but not the percentage of missing rows\n",
    "percent_missing = data.isnull().sum() * 100 / len(data)\n",
    "missing_values = pd.DataFrame({'name': data.columns,\n",
    "                                 '%': percent_missing})\n",
    "missing_values    "
   ]
  },
  {
   "cell_type": "code",
   "execution_count": null,
   "id": "4982c778-bb6e-4d8e-985f-a4c9e637265f",
   "metadata": {
    "id": "4982c778-bb6e-4d8e-985f-a4c9e637265f"
   },
   "outputs": [],
   "source": [
    "# Check for duplicates\n",
    "print('----------------------------\\n'\n",
    "      f'The dataset has {data.duplicated().sum()} duplicates\\n'\n",
    "      '----------------------------')"
   ]
  },
  {
   "cell_type": "code",
   "execution_count": null,
   "id": "3cd1afce-7846-4614-a0fe-1f0016d8e290",
   "metadata": {
    "id": "3cd1afce-7846-4614-a0fe-1f0016d8e290"
   },
   "outputs": [],
   "source": [
    "data.drop_duplicates(inplace=True)"
   ]
  },
  {
   "cell_type": "markdown",
   "id": "bb2b94f2-6772-48e9-bf35-3a6ef8a44f54",
   "metadata": {
    "id": "bb2b94f2-6772-48e9-bf35-3a6ef8a44f54"
   },
   "source": [
    "Checking the number of rows with `FirstPolYear` entrances being before the `BirthYear`"
   ]
  },
  {
   "cell_type": "code",
   "execution_count": null,
   "id": "1bf0cd06-16bf-4261-885f-d2a4d1ff0884",
   "metadata": {
    "id": "1bf0cd06-16bf-4261-885f-d2a4d1ff0884"
   },
   "outputs": [],
   "source": [
    "dataTEMP = data[['FirstPolYear','BirthYear']]\n",
    "dataTEMP = dataTEMP.fillna(0.0)\n",
    "dataTEMP['DIF'] = np.where(data['FirstPolYear'] < data['BirthYear'], 1, 0)\n",
    "print(\"------------------------\\n\"\n",
    "      f\"{dataTEMP['DIF'].sum()} iconsistent records\\n\"\n",
    "      \"------------------------\")"
   ]
  },
  {
   "cell_type": "markdown",
   "id": "88d494b3-0039-4f6b-a7b4-e5f1418002cc",
   "metadata": {
    "id": "88d494b3-0039-4f6b-a7b4-e5f1418002cc"
   },
   "source": [
    "We can see that 1997 registrations happened before the client was born.\n",
    "This is impossible, therefore possible errors, or wrong entries either in the `BirthYear` or `FirstPolYear`."
   ]
  },
  {
   "cell_type": "code",
   "execution_count": null,
   "id": "37da5201-b43c-493c-9d67-fa0625bd1dc6",
   "metadata": {
    "id": "37da5201-b43c-493c-9d67-fa0625bd1dc6"
   },
   "outputs": [],
   "source": [
    "# Check types again\n",
    "data.dtypes"
   ]
  },
  {
   "cell_type": "markdown",
   "id": "87a255de-51e2-432f-bbf9-e1097f3c8606",
   "metadata": {
    "id": "87a255de-51e2-432f-bbf9-e1097f3c8606"
   },
   "source": [
    "<div class=\"alert alert-block alert-info\">\n",
    "<a class=\"anchor\" id=\"data_Visualization\"> \n",
    "<h1>3. Data Visualization</h1>\n",
    "</a>    \n",
    "</div>"
   ]
  },
  {
   "cell_type": "code",
   "execution_count": null,
   "id": "03c6e326-b46c-4419-91d7-675424dd6c51",
   "metadata": {
    "id": "03c6e326-b46c-4419-91d7-675424dd6c51"
   },
   "outputs": [],
   "source": [
    "# function for scatter matrix\n",
    "\n",
    "def scatter_matrix(df, cols=None, width=None, height=None, \n",
    "                   title='Scatter Matrix', color=None):\n",
    "  fig = px.scatter_matrix(df, dimensions=cols,\n",
    "                          width=width, height=height,\n",
    "                          title=title,\n",
    "                          color=color,\n",
    "                          opacity=0.8,\n",
    "                          color_continuous_scale='piyg')\n",
    "  fig.layout.font.size = 7\n",
    "  fig.update_traces(marker=dict(line=dict(color='white', width=0.7),\n",
    "                                size=5))\n",
    "  fig.update_layout(title_font_size=25)\n",
    "  fig.update_xaxes(tickangle=90)\n",
    "  fig.show()\n"
   ]
  },
  {
   "cell_type": "code",
   "execution_count": null,
   "id": "y_-0-K0MjSS4",
   "metadata": {
    "id": "y_-0-K0MjSS4"
   },
   "outputs": [],
   "source": [
    "scatter_matrix(data.select_dtypes('float64'),\n",
    "               width=1080, height=1080,\n",
    "               title=\"Scatter matrix of initial numerical values\")"
   ]
  },
  {
   "cell_type": "markdown",
   "id": "0e83f58b-293f-4d21-9378-6fbc719d252d",
   "metadata": {
    "id": "0e83f58b-293f-4d21-9378-6fbc719d252d"
   },
   "source": [
    "We have only tree cathegorical variables: Education Degree, GeoLivArea and Children.\n",
    "    \n",
    "Therefore let's have a look and take some conclusions.\n",
    "\n",
    "Below are count plots of the categorical features."
   ]
  },
  {
   "cell_type": "code",
   "execution_count": null,
   "id": "6d821709-96e2-4824-98d0-bc0a59b69ca0",
   "metadata": {
    "id": "6d821709-96e2-4824-98d0-bc0a59b69ca0"
   },
   "outputs": [],
   "source": [
    "def countplot(df, feature=None, ascending=False,\n",
    "              title=None, labels=None, width=None,\n",
    "              height=None, color=None):\n",
    "    if feature == None:\n",
    "        counts = df.value_counts(ascending=ascending)\n",
    "    else:\n",
    "        counts = df[feature].value_counts(ascending=ascending)\n",
    "\n",
    "    plot = px.bar(counts, title=title,\n",
    "                  labels=labels, width=width,\n",
    "                  height=height)\n",
    "    plot.update_layout(showlegend=False)\n",
    "    plot.show()"
   ]
  },
  {
   "cell_type": "code",
   "execution_count": null,
   "id": "5a32ed45-25e3-4c30-9b6a-5972d955c5ca",
   "metadata": {
    "id": "5a32ed45-25e3-4c30-9b6a-5972d955c5ca"
   },
   "outputs": [],
   "source": [
    "cat = data[['EducDeg', 'Children', 'GeoLivArea']]\n",
    "cat['Children'] = cat['Children']\\\n",
    "    .apply(lambda x: 'Yes' if x == 1 else 'No')\n",
    "cat = cat.dropna().astype('str')"
   ]
  },
  {
   "cell_type": "code",
   "execution_count": null,
   "id": "70159b31-a9dd-406a-a624-f4ab43563273",
   "metadata": {
    "id": "70159b31-a9dd-406a-a624-f4ab43563273"
   },
   "outputs": [],
   "source": [
    "countplot(cat['EducDeg'], height=500, width=500,\n",
    "          labels={'index': 'Education Degree',\n",
    "                  'value': 'Frequency'})"
   ]
  },
  {
   "cell_type": "markdown",
   "id": "93628889-baf2-4677-8ba8-cf9086ae8e65",
   "metadata": {
    "id": "93628889-baf2-4677-8ba8-cf9086ae8e65"
   },
   "source": [
    "<p>From the plot can be noticed that the \"extremes\" of education are less willing to subscribe the insurance (Basic degree and PhD).<br>The ones in the middle of education (BSc/MSc and High School) are more willing to subscribe.</p>\n"
   ]
  },
  {
   "cell_type": "code",
   "execution_count": null,
   "id": "ccdda1cb-1e5e-48f5-ba18-f75eb30e258c",
   "metadata": {
    "id": "ccdda1cb-1e5e-48f5-ba18-f75eb30e258c"
   },
   "outputs": [],
   "source": [
    "countplot(cat['Children'], height=500, width=500,\n",
    "          labels={'index': 'Children',\n",
    "                  'value': 'Frequency'})"
   ]
  },
  {
   "cell_type": "markdown",
   "id": "690f1a8d-6c8a-45b6-b5fe-da8e6c01bdb5",
   "metadata": {
    "id": "690f1a8d-6c8a-45b6-b5fe-da8e6c01bdb5"
   },
   "source": [
    "More people with children decide to register for the insurance"
   ]
  },
  {
   "cell_type": "code",
   "execution_count": null,
   "id": "c072daa6-55da-466e-9962-05c7b7e1d5ba",
   "metadata": {
    "id": "c072daa6-55da-466e-9962-05c7b7e1d5ba"
   },
   "outputs": [],
   "source": [
    "# Comparing two cathegorical variables\n",
    "data_counts = cat[['EducDeg', 'Children']]\n",
    "data_counts = data_counts.groupby(['EducDeg', 'Children'],\n",
    "                                  as_index=False).size()\n",
    "\n",
    "educ_child_plot = px.bar(data_counts, x='EducDeg', y='size',\n",
    "                         color=data_counts['Children'],\n",
    "                         barmode='relative', title='Education vs Children',\n",
    "                         labels={'size': 'Frequency', \n",
    "                                 'EducDeg': 'Education degree',\n",
    "                                 'color': 'Children'},\n",
    "                         height=500, width=500)\n",
    "\n",
    "educ_child_plot.show()"
   ]
  },
  {
   "cell_type": "markdown",
   "id": "da5b2c9e-ee05-46b1-aca8-6170164d0aa2",
   "metadata": {
    "id": "da5b2c9e-ee05-46b1-aca8-6170164d0aa2",
    "tags": []
   },
   "source": [
    "Visually Children doesn't have high relation with Education, but we can't take conclusions through this plot, lets check later with a correlation matrix"
   ]
  },
  {
   "cell_type": "code",
   "execution_count": null,
   "id": "bc4a3fe4-7db7-42c8-9930-432987bff468",
   "metadata": {
    "id": "bc4a3fe4-7db7-42c8-9930-432987bff468"
   },
   "outputs": [],
   "source": [
    "countplot(cat['GeoLivArea'], height=500, width=500,\n",
    "          labels={'value': 'Frequency',\n",
    "                  'index': 'Geographic Living Area'})"
   ]
  },
  {
   "cell_type": "code",
   "execution_count": null,
   "id": "d1316cac-c5dd-4502-b0e6-366f8475ded9",
   "metadata": {
    "id": "d1316cac-c5dd-4502-b0e6-366f8475ded9"
   },
   "outputs": [],
   "source": [
    "#Exploratory Data Analysis (EDA) - Verifying Summary Statistics of numeric variables\n",
    "\n",
    "# Select all numeric variables in the dataset\n",
    "numerical = data.drop(['EducDeg', 'Children', 'GeoLivArea'],\n",
    "                    axis=1).columns.tolist()\n",
    "\n",
    "stats = ['skew', 'mad', 'kurt','mean', 'median', 'std', 'max', 'min', 'sum', 'count']\n",
    "data[numerical].agg(stats).apply(lambda x: round(x, 2)).T"
   ]
  },
  {
   "cell_type": "markdown",
   "id": "d64a5aee-c4d1-4b7e-a87d-1488352b7a2c",
   "metadata": {
    "id": "d64a5aee-c4d1-4b7e-a87d-1488352b7a2c"
   },
   "source": [
    "Trough a quick review, there are some unusual max and min values and there are also high skewness and high standar deviation in some variables, meaning a high dispersion of values."
   ]
  },
  {
   "cell_type": "code",
   "execution_count": null,
   "id": "ad4f79b2-4492-49fa-a86d-28401077a772",
   "metadata": {
    "id": "ad4f79b2-4492-49fa-a86d-28401077a772"
   },
   "outputs": [],
   "source": [
    "#HISTOGRAM OF ALL NUMERIC VARIABLES\n",
    "\n",
    "# Draw\n",
    "sns.set()\n",
    "fig, ax = plt.subplots(2, 5, figsize=(15,7))\n",
    "for var, subplot in zip(data[numerical], ax.flatten()):\n",
    "    g = sns.histplot(data=data,\n",
    "                bins=5,\n",
    "                 x=var,\n",
    "                 ax=subplot,\n",
    "                 kde=False)\n",
    "\n",
    "# Decoration\n",
    "sns.despine()\n",
    "plt.rc('axes')\n",
    "fig.suptitle(\"Histograms with 5 bins of all numeric variables\")\n",
    "plt.show()\n"
   ]
  },
  {
   "cell_type": "code",
   "execution_count": null,
   "id": "9c815a46-3bc6-4eb7-96a5-45e660d675b8",
   "metadata": {
    "id": "9c815a46-3bc6-4eb7-96a5-45e660d675b8"
   },
   "outputs": [],
   "source": [
    "# BOXPLOT (ALL NUMERIC VARIABLES)\n",
    "# Draw\n",
    "fig, ax = plt.subplots(4,3, figsize=(10,5), constrained_layout=True)\n",
    "for var, subplot in zip(data[numerical], ax.flatten()):\n",
    "    g = sns.boxplot(data=data,\n",
    "                 x=var,ax=subplot)\n",
    "\n",
    "# Decoration\n",
    "sns.despine()\n",
    "plt.rc('axes')\n",
    "fig.suptitle(\"Boxplots of all numeric variables\")\n",
    "plt.show()\n"
   ]
  },
  {
   "cell_type": "markdown",
   "id": "b4d1c22b-f249-4696-9e55-cd59dbd2aaf1",
   "metadata": {
    "id": "b4d1c22b-f249-4696-9e55-cd59dbd2aaf1"
   },
   "source": [
    "From the histograms and boxplots, outliers can be spotted. some of them have no meaning and may be consequence of bad inputs."
   ]
  },
  {
   "cell_type": "markdown",
   "id": "611a1659-4794-4363-8779-e77ebd05b5af",
   "metadata": {
    "id": "611a1659-4794-4363-8779-e77ebd05b5af"
   },
   "source": [
    "From the correlation matrix, a very strong linear correlation betwwen Customer Monthly Value and Claims rate can be seen. It's safe to drop one of the features to reduce dimensionality."
   ]
  },
  {
   "cell_type": "code",
   "execution_count": null,
   "id": "115146e1-62e3-4f83-86f9-4f25e841e478",
   "metadata": {
    "id": "115146e1-62e3-4f83-86f9-4f25e841e478"
   },
   "outputs": [],
   "source": [
    "# Create correlation matrix\n",
    "corr = data[numerical].corr(method='pearson').apply(lambda x: round(x, 2))\n",
    "\n",
    "corr_heatmap = px.imshow(corr, text_auto=True,\n",
    "                         height=700, width=700,\n",
    "                         title='Pearson correlation between numeric variables',\n",
    "                         color_continuous_scale='rdbu')\n",
    "corr_heatmap.show()"
   ]
  },
  {
   "cell_type": "markdown",
   "id": "450ff485-ec1c-44b3-b9ca-3cd6e7bb12d1",
   "metadata": {
    "id": "450ff485-ec1c-44b3-b9ca-3cd6e7bb12d1"
   },
   "source": [
    "From the correlation matrix, a very strong linear correlation between Customer Monthly Value and Claims rate can be seen. It's safe to drop one of the features to reduce dimensionality."
   ]
  },
  {
   "cell_type": "code",
   "execution_count": null,
   "id": "fd417b2b-82fd-4fdd-bfc1-7bab5aa709f2",
   "metadata": {
    "id": "fd417b2b-82fd-4fdd-bfc1-7bab5aa709f2"
   },
   "outputs": [],
   "source": [
    "fig = px.scatter(data, x=\"ClaimsRate\", y=\"CustMonVal\",\n",
    "                 height=500, width=700)\n",
    "fig.update_traces(marker=dict(line=dict(color='white', width=0.7),\n",
    "                              size=7))\n",
    "fig.show()"
   ]
  },
  {
   "cell_type": "code",
   "execution_count": null,
   "id": "ea0548a4-951e-41a1-ad2b-85b8a91e82c8",
   "metadata": {
    "id": "ea0548a4-951e-41a1-ad2b-85b8a91e82c8"
   },
   "outputs": [],
   "source": [
    "# SCATTER PLOT\n",
    "# Verification of the negative correlation between  MonthSal and BirthYear\n",
    "\n",
    "fig = px.scatter(data, y=\"MonthSal\", x=\"BirthYear\",\n",
    "                 height=500, width=700)\n",
    "\n",
    "fig.update_traces(marker=dict(line=dict(color='white', width=0.7),\n",
    "                              size=7))\n",
    "fig.update_xaxes(autorange=False, range=[1930, 2003])\n",
    "fig.update_yaxes(autorange=False, range=[0, 5500])\n",
    "fig.show()"
   ]
  },
  {
   "cell_type": "markdown",
   "id": "e7519883-4a99-40ee-8c67-fabf36c46e05",
   "metadata": {
    "id": "e7519883-4a99-40ee-8c67-fabf36c46e05",
    "tags": []
   },
   "source": [
    "### Exploration of categorical variables\n",
    "\n",
    "__Cross Table__ EducDec and Children"
   ]
  },
  {
   "cell_type": "code",
   "execution_count": null,
   "id": "7ef7e097-d17d-497b-a865-9e8133b2c835",
   "metadata": {
    "id": "7ef7e097-d17d-497b-a865-9e8133b2c835"
   },
   "outputs": [],
   "source": [
    "table1 = pd.crosstab(index=cat['EducDeg'], columns=cat['Children'])\n",
    "table1"
   ]
  },
  {
   "cell_type": "code",
   "execution_count": null,
   "id": "5421ba18-172c-436a-a1d3-a56729c7326b",
   "metadata": {
    "id": "5421ba18-172c-436a-a1d3-a56729c7326b"
   },
   "outputs": [],
   "source": [
    "# Visual Exploration of categorical variables of EducDeg and Children\n",
    "\n",
    "fig = px.imshow(table1, text_auto=True,\n",
    "                color_continuous_scale='rdbu',\n",
    "                height=500, width=500)\n",
    "fig.show()"
   ]
  },
  {
   "cell_type": "code",
   "execution_count": null,
   "id": "b0c0a67a-0511-438a-ace2-fc26aeb8e498",
   "metadata": {
    "id": "b0c0a67a-0511-438a-ace2-fc26aeb8e498"
   },
   "outputs": [],
   "source": [
    "# Exploration of categorical variables: CROSS TABLE of EducDeg and GeoLivArea\n",
    "table2 = pd.crosstab(index=cat['EducDeg'], columns=cat['GeoLivArea'])\n",
    "table2"
   ]
  },
  {
   "cell_type": "code",
   "execution_count": null,
   "id": "6ed2d08c-d609-4ede-b93f-d7967576208c",
   "metadata": {
    "id": "6ed2d08c-d609-4ede-b93f-d7967576208c"
   },
   "outputs": [],
   "source": [
    "fig = px.imshow(table2, text_auto=True,\n",
    "                color_continuous_scale='rdbu',\n",
    "                height=500, width=500)\n",
    "fig.show()"
   ]
  },
  {
   "cell_type": "markdown",
   "id": "5ba62e2e-8632-403a-b6be-6918486b220d",
   "metadata": {
    "id": "5ba62e2e-8632-403a-b6be-6918486b220d"
   },
   "source": [
    "<div class=\"alert alert-block alert-info\">\n",
    "<a class=\"anchor\" id=\"data_reprocessing\"> \n",
    "<h1>4. Data Preprocessing</h1>\n",
    "</a>    \n",
    "</div>"
   ]
  },
  {
   "cell_type": "markdown",
   "id": "e05f0fd4-3b40-4d50-a8a3-dbc6fe03ab7b",
   "metadata": {
    "id": "e05f0fd4-3b40-4d50-a8a3-dbc6fe03ab7b"
   },
   "source": [
    "<div class=\"alert alert-block alert-success\">\n",
    "<a class=\"anchor\" id=\"data_cleaning\"> \n",
    "<h2>4.1. Data Cleaning</h2>\n",
    "</a>    \n",
    "</div>"
   ]
  },
  {
   "cell_type": "markdown",
   "id": "f6e371fb-1350-47ee-9d0b-bbdef64ae1e8",
   "metadata": {
    "id": "f6e371fb-1350-47ee-9d0b-bbdef64ae1e8",
    "tags": []
   },
   "source": [
    "### Outlier Detection and removal"
   ]
  },
  {
   "cell_type": "code",
   "execution_count": null,
   "id": "538375ec-96be-419b-8c2f-277a78ba9d08",
   "metadata": {
    "id": "538375ec-96be-419b-8c2f-277a78ba9d08"
   },
   "outputs": [],
   "source": [
    "# Calculating the interquartile range for the numeric variable ClaimsRate\n",
    "data_ = data['ClaimsRate']\n",
    "q25, q75 = percentile(data_, 25), percentile(data_, 75)\n",
    "iqr = q75 - q25\n",
    "print(f'Percentiles: 25th={q25:.3f}, IQR={iqr:.3f}, 75th={q75:.3f}')\n",
    "\n",
    "# calculate the outlier cutoff\n",
    "cut_off = iqr * 1.5\n",
    "lower, upper = q25 - cut_off, q75 + cut_off\n",
    "\n",
    "# identify outliers\n",
    "outliers = [x for x in data_ if x < lower or x > upper]\n",
    "print(f'Identified outliers: {len(outliers):}')\n",
    "\n",
    "# Count outliers\n",
    "outliers_removed = [x for x in data_ if x >= lower and x <= upper]\n",
    "print(f'Non-outlier observations: {len(outliers_removed)}')"
   ]
  },
  {
   "cell_type": "markdown",
   "id": "71840740-4450-4941-ab86-277616f90aaf",
   "metadata": {
    "id": "71840740-4450-4941-ab86-277616f90aaf",
    "tags": []
   },
   "source": [
    "Let's perform this for all numeric variables"
   ]
  },
  {
   "cell_type": "code",
   "execution_count": null,
   "id": "19e17b7a-9eda-455a-a300-6de0482ee441",
   "metadata": {
    "id": "19e17b7a-9eda-455a-a300-6de0482ee441"
   },
   "outputs": [],
   "source": [
    "numeric=['CustMonVal', 'FirstPolYear', 'BirthYear', \n",
    "         'MonthSal', 'PremLife', 'ClaimsRate', 'PremMotor', \n",
    "         'PremHousehold', 'PremHealth', 'PremWork']\n",
    "\n",
    "for y in numeric:\n",
    "    data_ = data[y]\n",
    "    q25, q75 = percentile(data_, 25), percentile(data_, 75)\n",
    "    iqr = q75 - q25\n",
    "    print(f'Information for {y}\\n'\n",
    "          '-------------------------------------------------------------------------\\n'\n",
    "          f'Percentiles: 25th={q25:.3f}, IQR={iqr:.3f}, 75th={q75:.3f}')\n",
    "\n",
    "# calculate the outlier cutoff\n",
    "    cut_off = iqr * 1.5\n",
    "    lower, upper = q25 - cut_off, q75 + cut_off\n",
    "\n",
    "# identify outliers\n",
    "    outliers = [x for x in data_ if x < lower or x > upper]\n",
    "    print(f'Identified outliers: {len(outliers):}')\n",
    "\n",
    "# Count outliers\n",
    "    outliers_removed = [x for x in data_ if x >= lower and x <= upper]\n",
    "    print(f'Non-outlier observations: {len(outliers_removed)}\\n'\n",
    "          '-------------------------------------------------------------------------')"
   ]
  },
  {
   "cell_type": "markdown",
   "id": "3f6f13ff-5760-42b7-b58a-679cc55af532",
   "metadata": {
    "id": "3f6f13ff-5760-42b7-b58a-679cc55af532"
   },
   "source": [
    "Creating a function to remove the outliers"
   ]
  },
  {
   "cell_type": "code",
   "execution_count": null,
   "id": "cc58ee11-41fe-46b2-b162-c5ca9e48000c",
   "metadata": {
    "id": "cc58ee11-41fe-46b2-b162-c5ca9e48000c"
   },
   "outputs": [],
   "source": [
    "# Creating a Function to remove the outliers, based in the Interquartile range method\n",
    "def remove_outliers(df, colList, lowPercentile=0.01, highPercentile=0.95, verbose=False):\n",
    "    \"\"\"Remove rows with outliers below or above the predefined percentile thresholds\n",
    "\n",
    "    Args:\n",
    "        df (dataframe): dataframe object\n",
    "        colList (string list): list with names of columns\n",
    "        lowPercentile (float, optional): Rows with value below this threshold will be removed. Defaults to 0.05.\n",
    "        highPercentile (float, optional): Rows with value above this threshold will be removed. Defaults to 0.95.\n",
    "        verbose (bool, optional): Indication if it should give feedback on the percentiles. Defaults to False.\n",
    "\n",
    "    Returns:\n",
    "        dataframe: the dataframe with the rows removed.\n",
    "    \"\"\"\n",
    "    # Identify percentiles\n",
    "    quant_df = df[colList].quantile([lowPercentile, highPercentile])\n",
    "    if verbose:\n",
    "        print(quant_df)\n",
    "\n",
    "    # Loop in each column\n",
    "    for name in colList:\n",
    "\n",
    "        # Keep only rows that are inside the limits\n",
    "        df = df[(df[name] >= quant_df.loc[lowPercentile, name]) & (df[name] <= quant_df.loc[highPercentile, name])]\n",
    "\n",
    "    return df"
   ]
  },
  {
   "cell_type": "code",
   "execution_count": null,
   "id": "85a3ff5e-2ba5-4d19-b841-a33c9a67f202",
   "metadata": {
    "id": "85a3ff5e-2ba5-4d19-b841-a33c9a67f202"
   },
   "outputs": [],
   "source": [
    "#Shape before outlier removal\n",
    "dCP = data.copy(deep=True)\n",
    "dCP_shape_before = dCP.shape\n",
    "dCP_shape_before"
   ]
  },
  {
   "cell_type": "code",
   "execution_count": null,
   "id": "86ea6ba5-b370-4994-9797-3a09127918a1",
   "metadata": {
    "id": "86ea6ba5-b370-4994-9797-3a09127918a1"
   },
   "outputs": [],
   "source": [
    "# Removing the outliers - different threshold for BirthYear - tried with low 0.00 and gave a very strange value\n",
    "\n",
    "cols1=['CustMonVal', 'FirstPolYear', 'MonthSal', 'PremLife', 'ClaimsRate', 'PremMotor', 'PremHousehold', 'PremHealth', 'PremWork']\n",
    "cols2 = ['BirthYear']\n",
    "\n",
    "dCP = remove_outliers(dCP, colList=cols1 , lowPercentile=0.00, highPercentile=0.99, verbose=True)\n",
    "dCP = remove_outliers(dCP, colList=cols2 , lowPercentile=0.01, highPercentile=0.99, verbose=True)\n",
    "dCP_shape_after = dCP.shape\n",
    "dCP_shape_after"
   ]
  },
  {
   "cell_type": "code",
   "execution_count": null,
   "id": "d3e2bbdb-d14d-4be5-abcf-1f64e6643bf6",
   "metadata": {
    "id": "d3e2bbdb-d14d-4be5-abcf-1f64e6643bf6"
   },
   "outputs": [],
   "source": [
    "# Calculate percentage of data removed with outliers\n",
    "PRemoved= (dCP_shape_before[0] - dCP_shape_after[0]) / dCP_shape_before[0]\n",
    "print(f'Applying IQR method, we removed {round((PRemoved*100),2)}% of data')"
   ]
  },
  {
   "cell_type": "code",
   "execution_count": null,
   "id": "422d0c07-7db3-4756-b703-dfab789383e0",
   "metadata": {
    "id": "422d0c07-7db3-4756-b703-dfab789383e0"
   },
   "outputs": [],
   "source": [
    "# refactoring the previous function into a class transformer\n",
    "\n",
    "class RemoveOutliers(BaseEstimator, TransformerMixin):\n",
    "    def __init__(self, cols, low=0.01, high=0.95, verbose=False):\n",
    "        self.cols = cols\n",
    "        self.low = low\n",
    "        self.high = high\n",
    "        self.verbose = verbose\n",
    "    \n",
    "    def fit(self, X, y=None):\n",
    "        return self\n",
    "    \n",
    "    def transform(self, X, y=None):\n",
    "        df = X.copy()\n",
    "        # Identify percentiles\n",
    "        quant_df = df.quantile([self.low, self.high])\n",
    "        if self.verbose:\n",
    "            print(quant_df)\n",
    "        \n",
    "\n",
    "        for col in self.cols:\n",
    "        # Keep only rows that are inside the limits\n",
    "            df = df[(df[col] >= quant_df.loc[self.low, col])\\\n",
    "                    & (df[col] <= quant_df.loc[self.high, col])]\n",
    "\n",
    "        return df\n",
    "        "
   ]
  },
  {
   "cell_type": "code",
   "execution_count": null,
   "id": "14252c19-7ed1-4aa1-b9db-989c4c3cc9ee",
   "metadata": {
    "id": "14252c19-7ed1-4aa1-b9db-989c4c3cc9ee"
   },
   "outputs": [],
   "source": [
    "# testing the transformer\n",
    "pipe_removal = Pipeline([('rest', RemoveOutliers(cols1, 0.00, 0.99)),\n",
    "                         ('birth', RemoveOutliers(cols2, 0.01, 0.99))])\n",
    "\n",
    "# check if the function and transformer produce indentical results\n",
    "pipe_removal.fit_transform(data).sum() == dCP.sum()"
   ]
  },
  {
   "cell_type": "markdown",
   "id": "N-Wiv6JMbXBf",
   "metadata": {
    "id": "N-Wiv6JMbXBf"
   },
   "source": [
    "The DataFrames produced from the function and the class are identical."
   ]
  },
  {
   "cell_type": "markdown",
   "id": "00938393-6307-4498-bbe6-fa220a94f461",
   "metadata": {
    "id": "00938393-6307-4498-bbe6-fa220a94f461"
   },
   "source": [
    "#### Lets do some coherence checks to verify if the outliers removal was sucessfull:"
   ]
  },
  {
   "cell_type": "code",
   "execution_count": null,
   "id": "e474f354-7991-4b27-b425-3ef0045a19b1",
   "metadata": {
    "id": "e474f354-7991-4b27-b425-3ef0045a19b1"
   },
   "outputs": [],
   "source": [
    "#Check first if there are observations above 120 years old or above the year of the data (2016)\n",
    "Cohe_check1 = dCP.BirthYear.apply(lambda x: 1 if (x>2016 or x<1896) else 0)\n",
    "Cohe_check1.sum()"
   ]
  },
  {
   "cell_type": "markdown",
   "id": "7c6b22ba-1859-43f9-8a8d-3a4ebfea41c1",
   "metadata": {
    "id": "7c6b22ba-1859-43f9-8a8d-3a4ebfea41c1"
   },
   "source": [
    "There's no people above 120 years old or above the year of the data 2016 - outlier removal check sucessfull"
   ]
  },
  {
   "cell_type": "code",
   "execution_count": null,
   "id": "6f32f094-ca50-4df2-aa5b-c00368fbde88",
   "metadata": {
    "id": "6f32f094-ca50-4df2-aa5b-c00368fbde88",
    "tags": []
   },
   "outputs": [],
   "source": [
    "#Coherence check for Premiums (can't spend more money than they earn)\n",
    "def summ(num1, *args):\n",
    "    total=num1\n",
    "    for num in args:\n",
    "        total=total+num\n",
    "    return total\n",
    "\n",
    "Cohe_check2=dCP.apply(lambda x:1 if (summ(x.PremMotor, x.PremHousehold, x.PremLife, x.PremHealth, x.PremWork)>(x.MonthSal*12)) else 0, axis=1)\n",
    "Cohe_check2.sum()"
   ]
  },
  {
   "cell_type": "markdown",
   "id": "18adec29-ce78-4743-8a1a-0ba1223094da",
   "metadata": {
    "id": "18adec29-ce78-4743-8a1a-0ba1223094da"
   },
   "source": [
    "There's no people spending more money than they earn - outlier removal check sucessfull"
   ]
  },
  {
   "cell_type": "code",
   "execution_count": null,
   "id": "7c41b36c-f5fd-4020-82a4-2f1e5e7aee2f",
   "metadata": {
    "id": "7c41b36c-f5fd-4020-82a4-2f1e5e7aee2f"
   },
   "outputs": [],
   "source": [
    "#Coherence check for Salary (legal age for working in Portugal is 16)\n",
    "Cohe_check3=dCP.apply(lambda x:1 if (2016-x.BirthYear<16 and x.MonthlySal>0) else 0, axis=1)\n",
    "Cohe_check3.sum()"
   ]
  },
  {
   "cell_type": "markdown",
   "id": "3a4bc5c0-939c-4198-b2b4-c4cbb1f792aa",
   "metadata": {
    "id": "3a4bc5c0-939c-4198-b2b4-c4cbb1f792aa"
   },
   "source": [
    "All people working on this database are at least 16 years old - outlier removal check sucessfull"
   ]
  },
  {
   "cell_type": "markdown",
   "id": "24aba1ef-c640-45b0-89ca-262cefa99769",
   "metadata": {
    "id": "24aba1ef-c640-45b0-89ca-262cefa99769"
   },
   "source": [
    "Another approach is to impute the outliers, next is a transfomer that fills the outliers with null values:"
   ]
  },
  {
   "cell_type": "code",
   "execution_count": null,
   "id": "d2e63b50-7c06-486d-bcf9-72419827d75e",
   "metadata": {
    "id": "d2e63b50-7c06-486d-bcf9-72419827d75e"
   },
   "outputs": [],
   "source": [
    "# class that fills outliers with null\n",
    "class FillOutliersNaN(BaseEstimator, TransformerMixin):\n",
    "    def __init__(self, cols, lower=0.01, upper=0.95):\n",
    "        self.cols = cols\n",
    "        self.lower = lower\n",
    "        self.upper = upper\n",
    "\n",
    "    def fit(self, X, y=None):\n",
    "        return self\n",
    "\n",
    "    def transform(self, X, y=None):\n",
    "    # Identify quantiles\n",
    "        df = X.copy()\n",
    "        # df['MonthSal'].mask(df['BirthYear'] > 1999, other=0.0, inplace=True)\n",
    "        for col in self.cols:\n",
    "            df[col] = df[col].mask(df[col] < df[col].quantile(self.lower))\n",
    "            df[col] = df[col].mask(df[col] > df[col].quantile(self.upper))\n",
    "        return df"
   ]
  },
  {
   "cell_type": "code",
   "execution_count": null,
   "id": "fxsyJLj2_4xr",
   "metadata": {
    "id": "fxsyJLj2_4xr"
   },
   "outputs": [],
   "source": [
    "# Fill with 0 salary for people with 16 or less years old\n",
    "class FillZero(BaseEstimator, TransformerMixin):\n",
    "    def __init__(self):\n",
    "        pass\n",
    "\n",
    "    def fit(self, X, y=None):\n",
    "        return self\n",
    "\n",
    "    def transform(self, X, y=None):\n",
    "        new_X = X.copy()\n",
    "        new_X = np.asarray(new_X)\n",
    "        new_X[:,2] = np.where(new_X[:,9] > 1999.0, 0, new_X[:,2])\n",
    "        return new_X\n"
   ]
  },
  {
   "cell_type": "code",
   "execution_count": null,
   "id": "2285d186-7387-47dd-8c55-2603aa5245e7",
   "metadata": {
    "id": "2285d186-7387-47dd-8c55-2603aa5245e7"
   },
   "outputs": [],
   "source": [
    "cols1=['CustMonVal', 'FirstPolYear', 'MonthSal', \n",
    "       'PremLife', 'ClaimsRate', 'PremMotor', \n",
    "       'PremHousehold', 'PremHealth', 'PremWork']\n",
    "cols2 = ['BirthYear']\n",
    "cols3 = list(data.drop(cols1 + cols2, axis=1).columns)\n"
   ]
  },
  {
   "cell_type": "code",
   "execution_count": null,
   "id": "f902412d-5bdc-4bb5-8396-d9621c5b81a2",
   "metadata": {
    "id": "f902412d-5bdc-4bb5-8396-d9621c5b81a2"
   },
   "outputs": [],
   "source": [
    "# output substitutes outliers with null values\n",
    "# nul values can be dropped or imputed\n",
    "\n",
    "ct = ColumnTransformer([('passthrough', 'passthrough', cols3),\n",
    "                        ('birth_outliers', FillOutliersNaN(cols2, 0.01, 0.99), cols2),\n",
    "                        ('rest_outliers', FillOutliersNaN(cols1, 0.00, 0.99), cols1)])\n",
    "\n",
    "df = ct.fit_transform(data)\n",
    "df = pd.DataFrame(df, index=data.index, \n",
    "                  columns=(cols3 + cols2 + cols1))\n",
    "\n",
    "for feature in df.drop('EducDeg', axis=1).columns:\n",
    "    df[feature] = df[feature].astype('float64')\n",
    "\n",
    "df = df[data.columns]\n",
    "df.head()\n"
   ]
  },
  {
   "cell_type": "code",
   "execution_count": null,
   "id": "NoiCsXS8vA_E",
   "metadata": {
    "id": "NoiCsXS8vA_E"
   },
   "outputs": [],
   "source": [
    "corr = df.corr().apply(lambda x: round(x, 2))\n",
    "\n",
    "corr_heatmap = px.imshow(corr, text_auto=True,\n",
    "                         height=900, width=900,\n",
    "                         title='Pearson correlation between numeric variables',\n",
    "                         color_continuous_scale='rdbu')\n",
    "corr_heatmap.show()"
   ]
  },
  {
   "cell_type": "code",
   "execution_count": null,
   "id": "77e1207a-c43e-4fac-9a34-5935f62d074c",
   "metadata": {
    "id": "77e1207a-c43e-4fac-9a34-5935f62d074c"
   },
   "outputs": [],
   "source": [
    "df.shape"
   ]
  },
  {
   "cell_type": "markdown",
   "id": "e9d96f13-c986-4a93-968f-ec84c820f158",
   "metadata": {
    "id": "e9d96f13-c986-4a93-968f-ec84c820f158"
   },
   "source": [
    "Pipeline removing outliers"
   ]
  },
  {
   "cell_type": "code",
   "execution_count": null,
   "id": "f8649e69-ca5c-44e1-99c7-e25a245686b1",
   "metadata": {
    "id": "f8649e69-ca5c-44e1-99c7-e25a245686b1"
   },
   "outputs": [],
   "source": [
    "# pipeline for full imputation\n",
    "num_pipe = Pipeline([\n",
    "    ('fill_na', FillOutliersNaN(cols1, 0.01, 0.98)),\n",
    "    ('fill_na_birth', FillOutliersNaN(cols2, 0.01, 0.99)),\n",
    "    ('i2mputer', IterativeImputer()),\n",
    "    ('fill_less_16', FillZero())\n",
    "])\n",
    "\n",
    "cat_pipe = Pipeline([('si', SimpleImputer(strategy='most_frequent'))])\n",
    "\n",
    "imputer = ColumnTransformer([\n",
    "    ('numbers', num_pipe, cols1 + cols2),\n",
    "    ('categories', cat_pipe, cols3)\n",
    "])"
   ]
  },
  {
   "cell_type": "code",
   "execution_count": null,
   "id": "020abcaa-3329-41bf-bf0c-6fbf3b8be1c5",
   "metadata": {
    "id": "020abcaa-3329-41bf-bf0c-6fbf3b8be1c5"
   },
   "outputs": [],
   "source": [
    "df = imputer.fit_transform(data)\n",
    "df = pd.DataFrame(df, index=data.index,\n",
    "                  columns=(cols1 + cols2 + cols3))\n",
    "\n",
    "for feature in df.drop('EducDeg', axis=1).columns:\n",
    "    df[feature] = df[feature].astype('float64')\n",
    "\n",
    "df = df[data.columns]\n",
    "df.head()"
   ]
  },
  {
   "cell_type": "code",
   "execution_count": null,
   "id": "578617b2-6d26-4610-a008-56506cee52c2",
   "metadata": {
    "id": "578617b2-6d26-4610-a008-56506cee52c2"
   },
   "outputs": [],
   "source": [
    "#Check first if there are observations above 120 years old or above the year of the data (2016)\n",
    "df.BirthYear.apply(lambda x: 1 if (x>2016 or x<1896) else 0).sum()"
   ]
  },
  {
   "cell_type": "code",
   "execution_count": null,
   "id": "8e3d7130-cd79-409e-aa8c-ad606a11955b",
   "metadata": {
    "id": "8e3d7130-cd79-409e-aa8c-ad606a11955b"
   },
   "outputs": [],
   "source": [
    "#Coherence check for Premiums (can't spend more money than they earn)\n",
    "def summ(num1, *args):\n",
    "    total=num1\n",
    "    for num in args:\n",
    "        total=total+num\n",
    "    return total\n",
    "\n",
    "df.apply(lambda x:1 if (summ(x.PremMotor, x.PremHousehold, \n",
    "                                      x.PremLife, x.PremHealth, \n",
    "                                      x.PremWork)>(x.MonthSal*12)) else 0, axis=1).sum()\n"
   ]
  },
  {
   "cell_type": "code",
   "execution_count": null,
   "id": "50d76220-5ed3-4450-8dac-714169a0d246",
   "metadata": {
    "id": "50d76220-5ed3-4450-8dac-714169a0d246"
   },
   "outputs": [],
   "source": [
    "#Coherence check for Salary (legal age for working in Portugal is 16)\n",
    "df.apply(lambda x:1 if (2016-x.BirthYear<16\\\n",
    "                        and x.MonthSal>0) else 0, axis=1).sum()"
   ]
  },
  {
   "cell_type": "code",
   "execution_count": null,
   "id": "GfaE412XscMI",
   "metadata": {
    "id": "GfaE412XscMI"
   },
   "outputs": [],
   "source": [
    "corr = df.corr().apply(lambda x: round(x, 2))\n",
    "\n",
    "corr_heatmap = px.imshow(corr, text_auto=True,\n",
    "                         height=900, width=900,\n",
    "                         title='Pearson correlation between numeric variables',\n",
    "                         color_continuous_scale='rdbu')\n",
    "corr_heatmap.show()"
   ]
  },
  {
   "cell_type": "markdown",
   "id": "O9b-5euQ4NEK",
   "metadata": {
    "id": "O9b-5euQ4NEK"
   },
   "source": [
    "Due interpolation, 10 obervations matches to people with less than 16 years old and monthly salary above 0. This observations can be imputed with 0"
   ]
  },
  {
   "cell_type": "markdown",
   "id": "c308553e-d9ed-4af7-b209-6caae8e82e2b",
   "metadata": {
    "id": "c308553e-d9ed-4af7-b209-6caae8e82e2b"
   },
   "source": [
    "<div class=\"alert alert-block alert-success\">\n",
    "<a class=\"anchor\" id=\"features_engineering\"> \n",
    "<h2>4.2. Features Engineering</h2>\n",
    "</a>    \n",
    "</div>\n"
   ]
  },
  {
   "cell_type": "markdown",
   "id": "767e73e1-e964-48b2-8647-97f788fec38f",
   "metadata": {
    "id": "767e73e1-e964-48b2-8647-97f788fec38f",
    "tags": []
   },
   "source": [
    "### Derived Attributes"
   ]
  },
  {
   "cell_type": "code",
   "execution_count": null,
   "id": "19187c46-9fe1-48e2-990a-512d045d6e40",
   "metadata": {
    "id": "19187c46-9fe1-48e2-990a-512d045d6e40"
   },
   "outputs": [],
   "source": [
    "#Adding Age\n",
    "dCP['Age'] = 2016 - dCP['BirthYear']\n",
    "dCP['Age'] = dCP['Age']"
   ]
  },
  {
   "cell_type": "code",
   "execution_count": null,
   "id": "cd27a05f-9897-4d12-8b30-ebbd82811246",
   "metadata": {
    "id": "cd27a05f-9897-4d12-8b30-ebbd82811246"
   },
   "outputs": [],
   "source": [
    "#Loyalty - time as a client\n",
    "dCP['Loyalty'] = 2016 - dCP['FirstPolYear']\n",
    "dCP['Loyalty'] = dCP['Loyalty']"
   ]
  },
  {
   "cell_type": "markdown",
   "id": "200f5c16-f4f3-423b-8f11-88a8be75ccf1",
   "metadata": {
    "id": "200f5c16-f4f3-423b-8f11-88a8be75ccf1"
   },
   "source": [
    "As premiums are already in euros per year, makes sense to convert all values to annualy"
   ]
  },
  {
   "cell_type": "code",
   "execution_count": null,
   "id": "ada4acb7-c731-4a75-af79-d04418084c37",
   "metadata": {
    "id": "ada4acb7-c731-4a75-af79-d04418084c37"
   },
   "outputs": [],
   "source": [
    "#Client annual salary\n",
    "dCP['AnualSal'] = dCP['MonthSal'] * 12.0\n"
   ]
  },
  {
   "cell_type": "code",
   "execution_count": null,
   "id": "03a2b574-dd44-4138-b26b-9c51f0a1a3f2",
   "metadata": {
    "id": "03a2b574-dd44-4138-b26b-9c51f0a1a3f2"
   },
   "outputs": [],
   "source": [
    "# calculation of total premiums\n",
    "dCP['total_premium'] = dCP['PremMotor'] + dCP['PremHousehold']\\\n",
    "+ dCP['PremHealth'] + dCP['PremLife'] + dCP['PremWork']"
   ]
  },
  {
   "cell_type": "code",
   "execution_count": null,
   "id": "2a5f62b5-7d47-40a4-bfe2-ae45fb11e35e",
   "metadata": {
    "id": "2a5f62b5-7d47-40a4-bfe2-ae45fb11e35e"
   },
   "outputs": [],
   "source": [
    "# Adding Positive and negative premiums\n",
    "# dCP['PositivePrem'] = np.where(dCP['total_premium'] > 0, dCP['total_premium'], 0)\n",
    "# dCP ['NegativePrem'] = np.where(dCP ['total_premium'] < 0, dCP ['total_premium'], 0)"
   ]
  },
  {
   "cell_type": "code",
   "execution_count": null,
   "id": "dd004b7b-c72a-4018-9c12-07554d3d77cc",
   "metadata": {
    "id": "dd004b7b-c72a-4018-9c12-07554d3d77cc"
   },
   "outputs": [],
   "source": [
    "# Adding Positive the Effort_Ratio\n",
    "dCP['Effort_Ratio'] = dCP['total_premium'] / dCP['AnualSal']"
   ]
  },
  {
   "cell_type": "code",
   "execution_count": null,
   "id": "33882a3c-7e95-4deb-939d-322def03c9f3",
   "metadata": {
    "id": "33882a3c-7e95-4deb-939d-322def03c9f3"
   },
   "outputs": [],
   "source": [
    "# Insurance types ratio in tota premiums\n",
    "\n",
    "dCP['PremMotorRatio'] = dCP['PremMotor'] / dCP['total_premium']\n",
    "dCP['PremHouseholdRatio'] = dCP['PremHousehold'] / dCP['total_premium']\n",
    "dCP['PremHealthRatio'] = dCP ['PremHealth'] / dCP['total_premium']\n",
    "dCP['PremLifeRatio'] = dCP['PremLife'] / dCP['total_premium']\n",
    "dCP['PremWorkRatio'] = dCP['PremWork'] / dCP['total_premium']\n"
   ]
  },
  {
   "cell_type": "code",
   "execution_count": null,
   "id": "0d43953c-bc0a-4f91-a6cc-59b456304ec3",
   "metadata": {
    "id": "0d43953c-bc0a-4f91-a6cc-59b456304ec3"
   },
   "outputs": [],
   "source": [
    "#Does the customer represent a profit for the company or not?\n",
    "#If ClaimsRate is below 1, the client represents Profit to the company)\n",
    "dCP['Profit'] = 0\n",
    "dCP['Profit'] = dCP['Profit'].where(dCP['ClaimsRate']>1,1)"
   ]
  },
  {
   "cell_type": "code",
   "execution_count": null,
   "id": "48c8d2b4-40b0-4ed7-a523-e97306b9d98f",
   "metadata": {
    "id": "48c8d2b4-40b0-4ed7-a523-e97306b9d98f"
   },
   "outputs": [],
   "source": [
    "dCP.head()"
   ]
  },
  {
   "cell_type": "markdown",
   "id": "07d789cb-b133-4117-8f29-49454370184f",
   "metadata": {
    "id": "07d789cb-b133-4117-8f29-49454370184f"
   },
   "source": [
    "Make a transformer to create the previous attributes"
   ]
  },
  {
   "cell_type": "code",
   "execution_count": null,
   "id": "71fe19ff-d15f-4cda-b771-e69ca3e4cf9e",
   "metadata": {
    "id": "71fe19ff-d15f-4cda-b771-e69ca3e4cf9e"
   },
   "outputs": [],
   "source": [
    "class CreateFeatures(BaseEstimator, TransformerMixin):\n",
    "    def __init__(self):\n",
    "        pass\n",
    " \n",
    "    def fit(self, X, y=None):\n",
    "        return self\n",
    "\n",
    "    def transform(self, X, y=None):\n",
    "        df = X.copy()\n",
    "        \n",
    "        # creates age\n",
    "        df['Age'] = (2016.0 - df['BirthYear'])\n",
    "        \n",
    "        # creates loyalty\n",
    "        df['Loyalty'] = (2016.0 - df['FirstPolYear'])\n",
    "        \n",
    "        # creates annual salary\n",
    "        df['AnualSal'] = df['MonthSal'] * 12\n",
    "        \n",
    "        # calculates total premiums\n",
    "        df['total_premium'] = 0\n",
    "        for premium in df.columns:\n",
    "            if 'Prem' in premium:\n",
    "                df['total_premium'] += df[premium]\n",
    "\n",
    "        \n",
    "        # Adding Positive the Effort_Ratio\n",
    "        df['Effort_Rate'] = df['total_premium'] / df['AnualSal']\n",
    "        \n",
    "        # Insurance types ratio in tota premiums\n",
    "        for premium in df.columns:\n",
    "            if premium == f'{premium}Ratio':\n",
    "                break\n",
    "            if 'Prem' in premium:\n",
    "                df[f'{premium}Ratio'] = df[premium] / df['total_premium']\n",
    "\n",
    "        \n",
    "        # profit binary variable\n",
    "        df['Profit'] = 0\n",
    "        df['Profit'] = df['Profit'].where(df['ClaimsRate'] > 1,1)\n",
    "        \n",
    "        return df"
   ]
  },
  {
   "cell_type": "code",
   "execution_count": null,
   "id": "e50d0ef7-93b8-4066-b9ab-7e3f49d875de",
   "metadata": {
    "id": "e50d0ef7-93b8-4066-b9ab-7e3f49d875de"
   },
   "outputs": [],
   "source": [
    "# test the transformer\n",
    "\n",
    "cf = CreateFeatures()\n",
    "df2 = cf.fit_transform(df)\n",
    "df2.head()"
   ]
  },
  {
   "cell_type": "code",
   "execution_count": null,
   "id": "7db09e0c-3f86-4eb3-a37a-f0444c40f100",
   "metadata": {
    "id": "7db09e0c-3f86-4eb3-a37a-f0444c40f100"
   },
   "outputs": [],
   "source": [
    "# add miningfull names to variable features list\n",
    "birth_year = cols2\n",
    "rest_num_feats = cols1\n",
    "num_feats = cols1 + cols2\n",
    "cat_feats = cols3"
   ]
  },
  {
   "cell_type": "markdown",
   "id": "acb34187-0abd-40b8-8208-48987bdf14ab",
   "metadata": {
    "id": "acb34187-0abd-40b8-8208-48987bdf14ab",
    "tags": []
   },
   "source": [
    "Feature Creation must go after KNNImputer in pipeline, KNNImputer output is an array an the new class for Feature creation needs a DataFrame as input, the following class is a refactoring to accept np.arrays"
   ]
  },
  {
   "cell_type": "code",
   "execution_count": null,
   "id": "6634cd67-8252-4079-bd3c-d14a9a52d139",
   "metadata": {
    "id": "6634cd67-8252-4079-bd3c-d14a9a52d139"
   },
   "outputs": [],
   "source": [
    "class CreateFeatures(BaseEstimator, TransformerMixin):\n",
    "    def __init__(self, features):\n",
    "        self.features = features\n",
    " \n",
    "    def fit(self, X, y=None):\n",
    "        return self\n",
    "\n",
    "    def transform(self, X, y=None):\n",
    "        df = X.copy()\n",
    "        \n",
    "        # creates age\n",
    "        df = pd.DataFrame(df, columns=self.features)\n",
    "        df['Age'] = (2016.0 - df['BirthYear'])\n",
    "        \n",
    "        # creates loyalty\n",
    "        df['Loyalty'] = (2016.0 - df['FirstPolYear'])\n",
    "        \n",
    "        # creates annual salary\n",
    "        df['AnualSal'] = df['MonthSal'] * 12\n",
    "        \n",
    "        # calculates total premiums\n",
    "        df['total_premium'] = 0\n",
    "        for premium in df.columns:\n",
    "            if 'Prem' in premium:\n",
    "                df['total_premium'] += df[premium]\n",
    "\n",
    "        \n",
    "        # Adding Positive the Effort_Ratio\n",
    "        df['Effort_Rate'] = df['total_premium'] / df['AnualSal']\n",
    "        \n",
    "        # Insurance types ratio in tota premiums\n",
    "        for premium in df.columns:\n",
    "            if premium == f'{premium}Ratio':\n",
    "                break\n",
    "            if 'Prem' in premium:\n",
    "                df[f'{premium}Ratio'] = df[premium] / df['total_premium']\n",
    "\n",
    "        \n",
    "        # profit binary variable\n",
    "        df['Profit'] = 0\n",
    "        df['Profit'] = df['Profit'].where(df['ClaimsRate'] > 1,1)\n",
    "        \n",
    "        return df"
   ]
  },
  {
   "cell_type": "code",
   "execution_count": null,
   "id": "f61943be-7a53-4d74-a9cd-369aa78007b1",
   "metadata": {
    "id": "f61943be-7a53-4d74-a9cd-369aa78007b1"
   },
   "outputs": [],
   "source": [
    "new_feats = ['Age', 'Loyalty', 'AnualSal', \n",
    " 'total_premium', 'Effort_Rate', \n",
    " 'PremMotorRatio', 'PremHouseholdRatio',\n",
    " 'PremHealthRatio', 'PremLifeRatio',\n",
    " 'PremWorkRatio', 'Profit']"
   ]
  },
  {
   "cell_type": "code",
   "execution_count": null,
   "id": "a930c018-fe44-401c-9fc8-5e5d84d0bdcf",
   "metadata": {
    "id": "a930c018-fe44-401c-9fc8-5e5d84d0bdcf"
   },
   "outputs": [],
   "source": [
    "# Add the feature engineering to the pipeline\n",
    "num_pipe = Pipeline([\n",
    "    ('fill_na', FillOutliersNaN(cols1, 0.01, 0.98)),\n",
    "    ('fill_na_birth', FillOutliersNaN(cols2, 0.01, 0.99)),\n",
    "    ('i2mputer', IterativeImputer()),\n",
    "    ('fill_less_16', FillZero()),\n",
    "    ('feat_engineering', CreateFeatures(num_feats))\n",
    "])\n",
    "\n",
    "cat_pipe = Pipeline([('si', SimpleImputer(strategy='most_frequent'))])\n",
    "\n",
    "feature_creator = ColumnTransformer([\n",
    "    ('numbers', num_pipe, num_feats),\n",
    "    ('categories', cat_pipe, cat_feats)\n",
    "])"
   ]
  },
  {
   "cell_type": "code",
   "execution_count": null,
   "id": "e3CULINZMy3L",
   "metadata": {
    "id": "e3CULINZMy3L"
   },
   "outputs": [],
   "source": [
    "output_data = feature_creator.fit_transform(data)\n",
    "df = pd.DataFrame(output_data, index=data.index, \n",
    "                  columns=(num_feats + new_feats + cat_feats))\n",
    "\n",
    "for feature in df.drop('EducDeg', axis=1).columns:\n",
    "    df[feature] = df[feature].astype('float64')\n",
    "df = df[list(data.columns) + new_feats]\n",
    "df.head()"
   ]
  },
  {
   "cell_type": "markdown",
   "id": "8de0d466-ad5a-4866-beb3-0722ccaccde3",
   "metadata": {
    "id": "8de0d466-ad5a-4866-beb3-0722ccaccde3"
   },
   "source": [
    "### Single-attributes transformation"
   ]
  },
  {
   "cell_type": "code",
   "execution_count": null,
   "id": "15ba183f-ecc4-497b-aa93-c96d44239ac6",
   "metadata": {
    "id": "15ba183f-ecc4-497b-aa93-c96d44239ac6"
   },
   "outputs": [],
   "source": [
    "df.describe(include='all').T"
   ]
  },
  {
   "cell_type": "code",
   "execution_count": null,
   "id": "8c6746ec-d7df-42ab-8cb8-2a5c0762c27b",
   "metadata": {
    "id": "8c6746ec-d7df-42ab-8cb8-2a5c0762c27b"
   },
   "outputs": [],
   "source": [
    "corr = df.corr().apply(lambda x: round(x, 2))\n",
    "\n",
    "corr_heatmap = px.imshow(corr, text_auto=True,\n",
    "                         height=900, width=900,\n",
    "                         title='Pearson correlation between numeric variables',\n",
    "                         color_continuous_scale='rdbu')\n",
    "corr_heatmap.show()"
   ]
  },
  {
   "cell_type": "markdown",
   "id": "739a6fe5-0f36-4b00-9c39-169413e3f540",
   "metadata": {
    "id": "739a6fe5-0f36-4b00-9c39-169413e3f540"
   },
   "source": [
    "There is high correlation between features because new features were engineered using existing features. Some of them will be dropped or transformed into bins."
   ]
  },
  {
   "cell_type": "markdown",
   "id": "zR928tk4E-Qi",
   "metadata": {
    "id": "zR928tk4E-Qi"
   },
   "source": [
    "<div class=\"alert alert-block alert-success\">\n",
    "<a class=\"anchor\" id=\"data_scaling\"> \n",
    "<h2>4.3. Data Scaling</h2>\n",
    "</a>    \n",
    "</div>\n",
    "\n",
    "Data must be scale in roder to be comparable in distances."
   ]
  },
  {
   "cell_type": "code",
   "execution_count": null,
   "id": "rdV3RkocFIdr",
   "metadata": {
    "id": "rdV3RkocFIdr"
   },
   "outputs": [],
   "source": [
    "# add standard scaler to the pipeline\n",
    "num_pipe = Pipeline([\n",
    "    ('fill_na', FillOutliersNaN(rest_num_feats, 0.01, 0.99)),\n",
    "    ('fill_na_birth', FillOutliersNaN(birth_year, 0.01, 0.99)),\n",
    "    ('knn_imputer', KNNImputer()),\n",
    "    ('feat_engineering', CreateFeatures(num_feats)),\n",
    "    ('scaling', MinMaxScaler())\n",
    "])\n",
    "\n",
    "cat_pipe = Pipeline([('si', SimpleImputer(strategy='most_frequent')),\n",
    "                     ('ordinal_ecoder', OrdinalEncoder()),\n",
    "                     ('scaling', MinMaxScaler())])\n",
    "\n",
    "pipeline = ColumnTransformer([\n",
    "    ('numbers', num_pipe, num_feats),\n",
    "    ('categories', cat_pipe, cat_feats)\n",
    "])"
   ]
  },
  {
   "cell_type": "code",
   "execution_count": null,
   "id": "b7e9b8ac-9aed-41a1-9058-eb044a6372fc",
   "metadata": {},
   "outputs": [],
   "source": [
    "output_data = pipeline.fit_transform(data)\n",
    "df = pd.DataFrame(output_data, index=data.index, \n",
    "                  columns=(num_feats + new_feats + cat_feats))\n",
    "\n",
    "for feature in df.drop('EducDeg', axis=1).columns:\n",
    "    df[feature] = df[feature].astype('float64')\n",
    "df = df[list(data.columns) + new_feats]\n",
    "df.head()"
   ]
  },
  {
   "cell_type": "code",
   "execution_count": null,
   "id": "PFQ7Mvb5A9WL",
   "metadata": {
    "id": "PFQ7Mvb5A9WL"
   },
   "outputs": [],
   "source": [
    "# transform dtypes of categorical to object\n",
    "df[cat_feats + ['Profit']] = df[cat_feats + ['Profit']].astype('object')\n",
    "df.info()"
   ]
  },
  {
   "cell_type": "code",
   "execution_count": null,
   "id": "4aM6nUy6p02h",
   "metadata": {
    "id": "4aM6nUy6p02h"
   },
   "outputs": [],
   "source": [
    "sns.set()\n",
    "\n",
    "fig, axes = plt.subplots(6, 3, figsize=(20, 25))\n",
    "\n",
    "for ax, feat in zip(axes.flatten(), df.select_dtypes('float64')):\n",
    "    sns.boxplot(x = df[\"GeoLivArea\"].apply(lambda x: round(x, 2)), \n",
    "                y = df[feat], ax = ax)\n",
    "    \n",
    "plt.show()"
   ]
  },
  {
   "cell_type": "markdown",
   "id": "-ToCPbgaK17i",
   "metadata": {
    "id": "-ToCPbgaK17i"
   },
   "source": [
    "From the correlation heatmap graph, GeoLive Area seemed to have low to none correlation with any of the variables which can be confirmed in the boxplots."
   ]
  },
  {
   "cell_type": "markdown",
   "id": "VZmR1raZLjKV",
   "metadata": {
    "id": "VZmR1raZLjKV"
   },
   "source": [
    "<div class=\"alert alert-block alert-success\">\n",
    "<a class=\"anchor\" id=\"feature_selection\"> \n",
    "<h2>4.4. Feature Selection</h2>\n",
    "</a>    \n",
    "</div>"
   ]
  },
  {
   "cell_type": "markdown",
   "id": "JZnKx3MdYxhn",
   "metadata": {
    "id": "JZnKx3MdYxhn"
   },
   "source": [
    "<div class=\"alert alert-block alert-warning\">\n",
    "<a class=\"anchor\" id=\"imports\"> \n",
    "<h3>Principal Components Analysis (PCA)</h3>\n",
    "</a> \n",
    "<p>In the context of this project PCA is used to find important features in our dataset.</p>\n",
    "</div>\n",
    "\n"
   ]
  },
  {
   "cell_type": "code",
   "execution_count": null,
   "id": "hVyun5g5L20-",
   "metadata": {
    "id": "hVyun5g5L20-"
   },
   "outputs": [],
   "source": [
    "# excluded age due high correlation with AnualSal\n",
    "metric_features = ['Loyalty', 'Age',\n",
    "                   'total_premium', 'Effort_Rate',\n",
    "                   'CustMonVal', 'PremMotorRatio', \n",
    "                   'PremHouseholdRatio', 'PremHealthRatio', \n",
    "                   'PremLifeRatio', 'PremWorkRatio']\n",
    "\n",
    "cat_features = ['Children', 'EducDeg', 'Profit']\n",
    "\n",
    "# features insurance consumption\n",
    "insurances = ['PremMotorRatio', 'PremHouseholdRatio',\n",
    "              'PremHealthRatio', 'PremLifeRatio',\n",
    "              'PremWorkRatio']\n",
    "\n",
    "# socio-demographic metric features\n",
    "sdemo = ['EducDeg', 'Children', 'AnualSal']\n",
    "\n",
    "# monetary value feature\n",
    "valuef = ['CustMonVal', 'Effort_Rate', 'total_premium']\n",
    "        "
   ]
  },
  {
   "cell_type": "code",
   "execution_count": null,
   "id": "SCIXv_B6ZASh",
   "metadata": {
    "id": "SCIXv_B6ZASh"
   },
   "outputs": [],
   "source": [
    "pca = PCA()\n",
    "data_pca = pca.fit_transform(df[metric_features])"
   ]
  },
  {
   "cell_type": "code",
   "execution_count": null,
   "id": "nNItGOMYZqVu",
   "metadata": {
    "id": "nNItGOMYZqVu"
   },
   "outputs": [],
   "source": [
    "pd.DataFrame(\n",
    "    {\"Eigenvalue\": pca.explained_variance_,\n",
    "     \"Difference\": np.insert(np.diff(pca.explained_variance_), 0, 0),\n",
    "     \"Proportion\": pca.explained_variance_ratio_,\n",
    "     \"Cumulative\": np.cumsum(pca.explained_variance_ratio_)},\n",
    "    index=range(1, pca.n_components_ + 1)\n",
    ")"
   ]
  },
  {
   "cell_type": "code",
   "execution_count": null,
   "id": "f7b8413e-a23b-4be4-ab84-a22f152de699",
   "metadata": {},
   "outputs": [],
   "source": [
    "from plotly.subplots import make_subplots\n",
    "import plotly.graph_objects as go\n",
    "fig = make_subplots(shared_xaxes=True, shared_yaxes=True)\n",
    "                   \n",
    "fig.add_trace(\n",
    "    go.Scatter(x=[i for i in range(1, 11)], \n",
    "               y=pca.explained_variance_ratio_,\n",
    "               name='Cumulative'),\n",
    "    row=1, col=1\n",
    ")\n",
    "\n",
    "fig.add_trace(\n",
    "    go.Scatter(x=[i for i in range(1, 11)], \n",
    "               y=np.cumsum(pca.explained_variance_ratio_),\n",
    "               name='Proportion'),\n",
    "    row=1, col=1\n",
    ")\n",
    "\n",
    "fig.update_layout(autosize=False, height=500, width=700, \n",
    "                  title_text='Variance Explained')\n",
    "fig.show()"
   ]
  },
  {
   "cell_type": "code",
   "execution_count": null,
   "id": "cI0bTKG0avHD",
   "metadata": {
    "id": "cI0bTKG0avHD"
   },
   "outputs": [],
   "source": [
    "pca = PCA(n_components=5, random_state=42)\n",
    "data_pca = pca.fit_transform(df[metric_features])"
   ]
  },
  {
   "cell_type": "markdown",
   "id": "bJjZnVDtaGP0",
   "metadata": {
    "id": "bJjZnVDtaGP0"
   },
   "source": [
    "5 components explain 93% of the variance"
   ]
  },
  {
   "cell_type": "code",
   "execution_count": null,
   "id": "a35309b5-88ad-4089-9480-6d6c0e9614c0",
   "metadata": {},
   "outputs": [],
   "source": [
    "pd.DataFrame(abs(pca.components_))"
   ]
  },
  {
   "cell_type": "code",
   "execution_count": null,
   "id": "RpSLDJGsaOnQ",
   "metadata": {
    "id": "RpSLDJGsaOnQ"
   },
   "outputs": [],
   "source": [
    "df_pca = pd.DataFrame(abs(pca.components_),\n",
    "                      columns=metric_features, \n",
    "                      index=['PC1', 'PC2', 'PC3', 'PC4', 'PC5'])\\\n",
    "                      .apply(lambda x: round(x, 2))\n",
    "fig = px.imshow(df_pca, text_auto=True,\n",
    "                title='Feature importances by PCA',\n",
    "                color_continuous_scale='inferno',\n",
    "                height=500, width=800)\n",
    "\n",
    "fig.show()"
   ]
  },
  {
   "cell_type": "markdown",
   "id": "SCvQhNLHcOkN",
   "metadata": {
    "id": "SCvQhNLHcOkN"
   },
   "source": [
    "From the heatmap, can be noticed that the features that explain the majority of the variance are `Loyalty`, `total_premium`, `Age`, `CustMonVal`, `PremHouselHoldRatio`, `PremHealthRatio` and `PremLifeRatio`."
   ]
  },
  {
   "cell_type": "code",
   "execution_count": null,
   "id": "sVZSvtYNnoDE",
   "metadata": {
    "id": "sVZSvtYNnoDE"
   },
   "outputs": [],
   "source": [
    "best_feats = ['Loyalty', 'Age', 'total_premium', \n",
    "              'CustMonVal', 'PremHouseholdRatio', \n",
    "              'PremHealthRatio', 'PremLifeRatio']"
   ]
  },
  {
   "cell_type": "markdown",
   "id": "5b500beb-1ed3-427e-9f35-6220c0abd655",
   "metadata": {},
   "source": [
    "### T-SNE\n",
    "\n",
    "The data is transformed with the TSNE class for later visualizations."
   ]
  },
  {
   "cell_type": "code",
   "execution_count": null,
   "id": "2b42f792-78de-4a11-9cbe-673eb02e54c0",
   "metadata": {},
   "outputs": [],
   "source": [
    "tsne = TSNE(random_state=42, n_jobs=-1)\n",
    "tsne_data = tsne.fit_transform(df[best_feats])"
   ]
  },
  {
   "cell_type": "markdown",
   "id": "22cf1109-2f33-4223-ac3d-17dda03a57d4",
   "metadata": {},
   "source": [
    "<div class=\"alert alert-block alert-info\">\n",
    "<a class=\"anchor\" id=\"clustering\"> \n",
    "<h1>5. Clustering</h1>\n",
    "</a>    \n",
    "</div>"
   ]
  },
  {
   "cell_type": "markdown",
   "id": "0OBO2JpBeaKH",
   "metadata": {
    "id": "0OBO2JpBeaKH"
   },
   "source": [
    "<div class=\"alert alert-block alert-success\">\n",
    "<a class=\"anchor\" id=\"dbscan\"> \n",
    "<h2>5.1. DBSCAN</h2>\n",
    "</a>    \n",
    "</div>\n",
    "\n",
    "Using the pca features found in the above cell"
   ]
  },
  {
   "cell_type": "code",
   "execution_count": null,
   "id": "hJtTOscOegF3",
   "metadata": {
    "id": "hJtTOscOegF3"
   },
   "outputs": [],
   "source": [
    "# finding optimal eps value for DBSCAN\n",
    "\n",
    "nn = NearestNeighbors(n_neighbors=50, algorithm='brute', n_jobs=-1)\n",
    "nn.fit(df[best_feats])\n",
    "distances, indices = nn.kneighbors(df[best_feats])\n",
    "\n",
    "# sort distances\n",
    "distances = np.sort(distances[:,1], axis=0)\n",
    "\n",
    "fig = px.line(distances)\n",
    "fig.update_layout(autosize=False,\n",
    "                  height=500, width=700)\n",
    "fig.show()"
   ]
  },
  {
   "cell_type": "code",
   "execution_count": null,
   "id": "TVZV-4scegF6",
   "metadata": {
    "id": "TVZV-4scegF6"
   },
   "outputs": [],
   "source": [
    "min_samples = range(8, 21, 2)\n",
    "eps = np.arange(0.15, 0.25, 0.01)\n",
    "# eps = np.arange(0.18, 0.25, 0.01)\n",
    "\n",
    "output = []\n",
    "for ms in min_samples:\n",
    "  for ep in eps:\n",
    "    labels = DBSCAN(min_samples=ms, eps = ep,\n",
    "                    n_jobs=-1).fit(df[best_feats]).labels_\n",
    "    score = silhouette_score(df[best_feats], labels)\n",
    "    output.append((ms, ep, score))"
   ]
  },
  {
   "cell_type": "code",
   "execution_count": null,
   "id": "VqPH5ldPegF7",
   "metadata": {
    "colab": {
     "base_uri": "https://localhost:8080/"
    },
    "id": "VqPH5ldPegF7",
    "outputId": "8b817ad6-056b-42f3-8b12-dace18c2a0e1"
   },
   "outputs": [],
   "source": [
    "# Get the parameters for best silhouette score\n",
    "min_samples, eps, score = sorted(output, key=lambda x:x[-1])[-1]\n",
    "print(f'Best silhouette_score: {score}')\n",
    "print(f'min_samples: {min_samples}')\n",
    "print(f'eps: {eps}')"
   ]
  },
  {
   "cell_type": "code",
   "execution_count": null,
   "id": "RFhhyTeeegF7",
   "metadata": {
    "colab": {
     "base_uri": "https://localhost:8080/"
    },
    "id": "RFhhyTeeegF7",
    "outputId": "fa3b48b9-028d-45a0-bf5b-3f3d9d8959f3"
   },
   "outputs": [],
   "source": [
    "# Get the number of clusters and outliers for DBSCAN with best parameters\n",
    "labels_dbscan = DBSCAN(min_samples=min_samples, \n",
    "                       eps=eps, n_jobs=-1).fit(df[best_feats]).labels_\n",
    "clusters = len(Counter(labels_dbscan))\n",
    "print(f\"Number of clusters: {clusters}\")\n",
    "print(f\"Number of outliers: {Counter(labels_dbscan)[-1]}\")\n",
    "print(f\"Silhouette_score: {silhouette_score(df[best_feats], labels_dbscan)}\")"
   ]
  },
  {
   "cell_type": "markdown",
   "id": "7a5d2232-909e-4c73-9198-5959dcc3b2d9",
   "metadata": {},
   "source": [
    "From DBSCAN it can be noticed that there are few outliers and compared to the number of observations (10293) their quantity carry little weight."
   ]
  },
  {
   "cell_type": "code",
   "execution_count": null,
   "id": "NZs6TfaNegF7",
   "metadata": {
    "id": "NZs6TfaNegF7"
   },
   "outputs": [],
   "source": [
    "labels_str_dbscan = labels_dbscan.astype('str')"
   ]
  },
  {
   "cell_type": "code",
   "execution_count": null,
   "id": "9URVbdz3egF8",
   "metadata": {
    "id": "9URVbdz3egF8"
   },
   "outputs": [],
   "source": [
    "scatter_matrix(df, best_feats, color=labels_str_dbscan, \n",
    "               width=800, height=800,\n",
    "               title='Scatter matrix of metric features, DBSCAN')"
   ]
  },
  {
   "cell_type": "code",
   "execution_count": null,
   "id": "2DmKZfAU3RKK",
   "metadata": {
    "id": "2DmKZfAU3RKK"
   },
   "outputs": [],
   "source": [
    "fig = px.scatter(x=data_pca[:, 0], y=data_pca[:, 1],\n",
    "                 color=labels_str_dbscan)\n",
    "fig.update_traces(\n",
    "    marker=dict(line=dict(color='white', width=0.7),\n",
    "                size=7)\n",
    ")\n",
    "fig.update_layout(\n",
    "    xaxis_title='PC 1',\n",
    "    yaxis_title='PC 2',\n",
    "    legend_title='Cluster',\n",
    "    title='Clusters of data by PC',\n",
    "    autosize=False,\n",
    "    height=500, width=500\n",
    ")\n",
    "fig.show()"
   ]
  },
  {
   "cell_type": "code",
   "execution_count": null,
   "id": "6kv6GfBgBarO",
   "metadata": {
    "id": "6kv6GfBgBarO"
   },
   "outputs": [],
   "source": [
    "fig = px.scatter_3d(x=data_pca[:, 0], y=data_pca[:, 1],\n",
    "                    z=data_pca[:, 2], width=800,\n",
    "                    color=labels_str_dbscan, height=700,\n",
    "                    labels={'x': 'PC 1', 'y':'PC 2', 'z':'PC 3'})\n",
    "fig.update_traces(\n",
    "    marker=dict(line=dict(color='white', width=0.7),\n",
    "                size=5)\n",
    ")\n",
    "fig.update_layout(\n",
    "    legend_title='Cluster',\n",
    "    title='Clusters of data by PC',\n",
    "    margin=dict(\n",
    "    l=40, r=40, b=100, t=100, pad=4\n",
    "    )\n",
    ")\n",
    "fig.show()"
   ]
  },
  {
   "cell_type": "code",
   "execution_count": null,
   "id": "f8ea8257",
   "metadata": {},
   "outputs": [],
   "source": [
    "\n",
    "data_imputed = imputer.fit_transform(data)\n",
    "data_imputed = pd.DataFrame(data_imputed, index=data.index,\n",
    "                            columns=cols1 + cols2 + cols3)\n",
    "data_imputed[cols1 + cols2] = data_imputed[cols1 + cols2].astype('float64')\n",
    "data_imputed = data_imputed[data.columns]\n",
    "data_imputed['Labels_DBSCAN'] = labels_dbscan"
   ]
  },
  {
   "cell_type": "code",
   "execution_count": null,
   "id": "0b2fa794-3423-4424-a30a-4c44df32425a",
   "metadata": {},
   "outputs": [],
   "source": [
    "# function for plotting boxplots of original features with newly found labels\n",
    "\n",
    "def boxplot_labels(dataframe, labels):\n",
    "    features = data_imputed.select_dtypes('float64').columns\n",
    "    fig = make_subplots(rows=5, cols=2,\n",
    "                       subplot_titles=features)\n",
    "\n",
    "    fig.add_trace(\n",
    "        go.Box(x=data_imputed[labels],\n",
    "               y=data_imputed['FirstPolYear'],\n",
    "               name='First Policy Year'),\n",
    "        row=1, col=1\n",
    "    )\n",
    "    fig.add_trace(\n",
    "        go.Box(x=data_imputed[labels],\n",
    "               y=data_imputed['BirthYear'],\n",
    "               name='Birth Year'),\n",
    "        row=1, col=2\n",
    "    )\n",
    "    fig.add_trace(\n",
    "        go.Box(x=data_imputed[labels],\n",
    "               y=data_imputed['MonthSal'],\n",
    "               name='Monthly Salary'),\n",
    "        row=2, col=1\n",
    "    )\n",
    "    fig.add_trace(\n",
    "        go.Box(x=data_imputed[labels],\n",
    "               y=data_imputed['CustMonVal'],\n",
    "               name='Customer Monetary Value'),\n",
    "        row=2, col=2\n",
    "    )\n",
    "\n",
    "    fig.add_trace(\n",
    "        go.Box(x=data_imputed[labels],\n",
    "               y=data_imputed['ClaimsRate'],\n",
    "               name='Claims Rate'),\n",
    "        row=3, col=1\n",
    "    )\n",
    "\n",
    "    fig.add_trace(\n",
    "        go.Box(x=data_imputed[labels],\n",
    "               y=data_imputed['PremMotor'],\n",
    "               name='Premium Motor'),\n",
    "        row=3, col=2\n",
    "    )\n",
    "\n",
    "    fig.add_trace(\n",
    "        go.Box(x=data_imputed[labels],\n",
    "               y=data_imputed['PremHousehold'],\n",
    "               name='Premium Household'),\n",
    "        row=4, col=1\n",
    "    )\n",
    "\n",
    "    fig.add_trace(\n",
    "        go.Box(x=data_imputed[labels],\n",
    "               y=data_imputed['PremHealth'],\n",
    "               name='Premium Health'),\n",
    "        row=4, col=2\n",
    "    )\n",
    "\n",
    "    fig.add_trace(\n",
    "        go.Box(x=data_imputed[labels],\n",
    "               y=data_imputed['PremLife'],\n",
    "               name='Premium Life'),\n",
    "        row=5, col=1\n",
    "    )\n",
    "\n",
    "    fig.add_trace(\n",
    "        go.Box(x=data_imputed[labels],\n",
    "               y=data_imputed['PremWork'],\n",
    "               name='Premium Work'),\n",
    "        row=5, col=2\n",
    "    )\n",
    "\n",
    "    fig.update_layout(height=1600, width=1000, \n",
    "                      title_text=\"Stacked Subplots\",\n",
    "                      legend_title='Feature')\n",
    "    fig.show()"
   ]
  },
  {
   "cell_type": "code",
   "execution_count": null,
   "id": "eadc6d80-aa6d-4c3d-9d60-dec0e3a69813",
   "metadata": {},
   "outputs": [],
   "source": [
    "boxplot_labels(data_imputed, 'Labels_DBSCAN')"
   ]
  },
  {
   "cell_type": "markdown",
   "id": "00500d2d-dcfc-4fb7-b74d-443df9049f0d",
   "metadata": {},
   "source": [
    "We cannot draw important conclusion from de clusters acquired through DBSCAN."
   ]
  },
  {
   "cell_type": "markdown",
   "id": "e84d9bc5",
   "metadata": {},
   "source": [
    "<div class=\"alert alert-block alert-success\">\n",
    "<a class=\"anchor\" id=\"kmeans\"> \n",
    "<h2>5.2. KMeans</h2>\n",
    "</a>    \n",
    "</div>"
   ]
  },
  {
   "cell_type": "code",
   "execution_count": null,
   "id": "pc2eX0YMegF8",
   "metadata": {
    "id": "pc2eX0YMegF8"
   },
   "outputs": [],
   "source": [
    "# applying Kmeans to the same variables\n",
    "output = []\n",
    "scores = []\n",
    "inertias = []\n",
    "k_vals = range(2,10) \n",
    "for k in k_vals:\n",
    "  km = KMeans(n_clusters=k, random_state=42).fit(df[best_feats])\n",
    "  labels = km.labels_\n",
    "  score = silhouette_score(df[best_feats], labels)\n",
    "  inertia = km.inertia_\n",
    "  output.append((k, score))\n",
    "  scores.append(score)\n",
    "  inertias.append(inertia)"
   ]
  },
  {
   "cell_type": "code",
   "execution_count": null,
   "id": "_qa_jdd3egF9",
   "metadata": {
    "id": "_qa_jdd3egF9"
   },
   "outputs": [],
   "source": [
    "k, score = sorted(output, key=lambda x:x[-1])[-1]\n",
    "fig = px.line(x=k_vals, y=scores, height=500, width=700,\n",
    "              labels={'x':'k', 'y':'Silhouette score'})\n",
    "fig.show()\n",
    "print(f\"Best silhouette_score: {score}\")\n",
    "print(f\"k: {k}\")"
   ]
  },
  {
   "cell_type": "code",
   "execution_count": null,
   "id": "7W6vF0b8egF_",
   "metadata": {
    "id": "7W6vF0b8egF_"
   },
   "outputs": [],
   "source": [
    "fig = px.line(x=k_vals, y=inertias, height=500, width=700,\n",
    "              labels={'x':'k', 'y':'Inertia'})\n",
    "fig.show()"
   ]
  },
  {
   "cell_type": "markdown",
   "id": "zynmjlKDg7Pr",
   "metadata": {
    "id": "zynmjlKDg7Pr"
   },
   "source": [
    "Considering that the best silhoute score does not differ too much for other clusters sizes(2 -> 0.230, 3 -> 0.227) , we can choose 3 clusters to match the elbow method."
   ]
  },
  {
   "cell_type": "code",
   "execution_count": null,
   "id": "hhe8VOS_egF_",
   "metadata": {
    "id": "hhe8VOS_egF_"
   },
   "outputs": [],
   "source": [
    "k = 3\n",
    "km = KMeans(n_clusters=k, random_state=42).fit(df[best_feats])\n",
    "distances_kmeans = km.transform(df[best_feats])\n",
    "labels_kmeans = km.labels_"
   ]
  },
  {
   "cell_type": "code",
   "execution_count": null,
   "id": "Q7xOiQg8egF_",
   "metadata": {
    "id": "Q7xOiQg8egF_"
   },
   "outputs": [],
   "source": [
    "labels_str_kmeans = labels_kmeans.astype('str')\n",
    "scatter_matrix(df, best_feats, color=labels_str_kmeans, \n",
    "               width=800, height=800,\n",
    "               title='Scatter matrix of metric features, KMeans Clusters')"
   ]
  },
  {
   "cell_type": "code",
   "execution_count": null,
   "id": "pNC7AwVqiJVJ",
   "metadata": {
    "id": "pNC7AwVqiJVJ"
   },
   "outputs": [],
   "source": [
    "# plot clusters cardinality\n",
    "\n",
    "freq_cluster = df.groupby(labels_kmeans).size()\n",
    "fig = px.bar(x=range(k), y=freq_cluster,\n",
    "             title='Cluster cardinality', color=[str(i) for i in range(k)])\n",
    "fig.update_xaxes(type='category')\n",
    "fig.update_layout(\n",
    "    xaxis_title='Cluster',\n",
    "    yaxis_title='Sum of distances to centroid',\n",
    "    legend_title='Cluster',\n",
    "    width=500, height=500\n",
    ")\n",
    "fig.show()\n"
   ]
  },
  {
   "cell_type": "code",
   "execution_count": null,
   "id": "plSmqRq9oqej",
   "metadata": {
    "id": "plSmqRq9oqej"
   },
   "outputs": [],
   "source": [
    "# Plot clusters magnitude\n",
    "df['distanceToCentroid'] = np.min(distances_kmeans, axis=1)\n",
    "magnitud = df.groupby(labels_kmeans).sum()['distanceToCentroid']\n",
    "df.drop('distanceToCentroid', axis=1, inplace=True)\n",
    "fig = px.bar(x=magnitud.index, y=magnitud.values,\n",
    "             color=[str(i) for i in range(k)])\n",
    "fig.update_xaxes(type='category')\n",
    "fig.update_layout(\n",
    "    xaxis_title='Cluster',\n",
    "    yaxis_title='Sum of distances to centroid',\n",
    "    legend_title='Cluster',\n",
    "    width=600, height=500\n",
    ")\n",
    "fig.show()"
   ]
  },
  {
   "cell_type": "markdown",
   "id": "IEN1E5xnsJo7",
   "metadata": {
    "id": "IEN1E5xnsJo7"
   },
   "source": [
    "Cluster magnitude is the sum of distances from all examples to the centroid of the cluster."
   ]
  },
  {
   "cell_type": "code",
   "execution_count": null,
   "id": "64VmKaNtsNH4",
   "metadata": {
    "id": "64VmKaNtsNH4"
   },
   "outputs": [],
   "source": [
    "# plot cardinality vs magnitud\n",
    "\n",
    "fig = px.scatter(x=freq_cluster, y=magnitud, trendline='ols',\n",
    "                 title='Magnitud vs. Cardinality')\n",
    "fig.update_layout(\n",
    "    xaxis_title='Cardinality',\n",
    "    yaxis_title='Magnitud',\n",
    "    width=700,\n",
    "    height=500\n",
    ")\n",
    "fig.show()\n",
    "results = px.get_trendline_results(fig)\n",
    "results.px_fit_results.iloc[0].summary()"
   ]
  },
  {
   "cell_type": "markdown",
   "id": "8S4cRnBHtXZC",
   "metadata": {
    "id": "8S4cRnBHtXZC"
   },
   "source": [
    "Notice that a higher cluster cardinality tends to result in a higher cluster magnitude, which intuitively makes sense. Clusters are anomalous when cardinality doesn't correlate with magnitude relative to the other clusters."
   ]
  },
  {
   "cell_type": "markdown",
   "id": "783b4327-4c47-4acd-bf01-71fd7d063fe5",
   "metadata": {
    "tags": []
   },
   "source": [
    "Next are are scatter plots of the principal components obtained in the PCA but color coded with the cluster obtained using non-PCA features."
   ]
  },
  {
   "cell_type": "code",
   "execution_count": null,
   "id": "gzDHRD9utfAp",
   "metadata": {
    "id": "gzDHRD9utfAp"
   },
   "outputs": [],
   "source": [
    "fig = px.scatter(x=data_pca[:, 0], y=data_pca[:, 1],\n",
    "                 color=labels_str_kmeans)\n",
    "fig.update_traces(\n",
    "    marker=dict(line=dict(color='white', width=0.7),\n",
    "                size=7)\n",
    ")\n",
    "fig.update_layout(\n",
    "    xaxis_title='PC 1',\n",
    "    yaxis_title='PC 2',\n",
    "    legend_title='Cluster',\n",
    "    title='Clusters of data by PC',\n",
    "    height=500,\n",
    "    width=500\n",
    ")\n",
    "fig.show()"
   ]
  },
  {
   "cell_type": "code",
   "execution_count": null,
   "id": "9421fd03-f8ed-4977-b094-ed685550aa72",
   "metadata": {},
   "outputs": [],
   "source": [
    "fig = px.scatter(x=data_pca[:, 0], y=data_pca[:, 2],\n",
    "                 color=labels_str_kmeans)\n",
    "fig.update_traces(\n",
    "    marker=dict(line=dict(color='white', width=0.7),\n",
    "                size=7)\n",
    ")\n",
    "fig.update_layout(\n",
    "    xaxis_title='PC 1',\n",
    "    yaxis_title='PC 3',\n",
    "    legend_title='Cluster',\n",
    "    title='Clusters of data by PC',\n",
    "    height=500,\n",
    "    width=500\n",
    ")\n",
    "fig.show()"
   ]
  },
  {
   "cell_type": "code",
   "execution_count": null,
   "id": "uvSVGdtevn_2",
   "metadata": {
    "id": "uvSVGdtevn_2"
   },
   "outputs": [],
   "source": [
    "fig = px.scatter_3d(x=data_pca[:, 0], y=data_pca[:, 1],\n",
    "                    z=data_pca[:, 2], width=700,\n",
    "                    color=labels_str_kmeans, height=700,\n",
    "                    labels={'x': 'PC 1', 'y':'PC 2', 'z':'PC 3'})\n",
    "fig.update_traces(\n",
    "    marker=dict(line=dict(color='white', width=0.7),\n",
    "                size=5)\n",
    ")\n",
    "fig.update_layout(\n",
    "    legend_title='Cluster',\n",
    "    title='Clusters of data by PC',\n",
    "    margin=dict(\n",
    "    l=40, r=40, b=100, t=100, pad=4\n",
    "    )\n",
    ")\n",
    "fig.show()"
   ]
  },
  {
   "cell_type": "code",
   "execution_count": null,
   "id": "9f7daa83-7d0e-4ff7-b628-cd4880b3b2da",
   "metadata": {},
   "outputs": [],
   "source": [
    "fig = px.scatter(x=tsne_data[:, 0], y=tsne_data[:, 1],\n",
    "                 color=labels_str_kmeans, opacity=0.8)\n",
    "fig.update_traces(\n",
    "    marker=dict(line=dict(color='white', width=0.2),\n",
    "                size=4)\n",
    ")\n",
    "fig.update_layout(\n",
    "    xaxis_title='First Component',\n",
    "    yaxis_title='Second Component',\n",
    "    legend_title='Cluster',\n",
    "    title='t-sne visualization',\n",
    "    height=500,\n",
    "    width=500\n",
    ")\n",
    "fig.show()"
   ]
  },
  {
   "cell_type": "code",
   "execution_count": null,
   "id": "d6f4ZC9KHeHN",
   "metadata": {
    "id": "d6f4ZC9KHeHN"
   },
   "outputs": [],
   "source": [
    "data_imputed['Labels_KMeans'] = labels_kmeans"
   ]
  },
  {
   "cell_type": "code",
   "execution_count": null,
   "id": "5fb9fe09-6dad-49ba-9375-e6eeb8fc3263",
   "metadata": {},
   "outputs": [],
   "source": [
    "boxplot_labels(data_imputed, 'Labels_KMeans')"
   ]
  },
  {
   "cell_type": "markdown",
   "id": "181d7500-e4c3-426c-96f6-b287087702ea",
   "metadata": {},
   "source": [
    "Observations seem to be clustered around age/salary with a different tendency in consumption."
   ]
  },
  {
   "cell_type": "code",
   "execution_count": null,
   "id": "308d2c94-c7bc-4036-aa18-d621ee367a5e",
   "metadata": {},
   "outputs": [],
   "source": [
    "# Comparing two cathegorical variables\n",
    "data_clustered = data_imputed[['EducDeg', 'Labels_KMeans']]\n",
    "data_clustered = data_clustered.groupby(['EducDeg', 'Labels_KMeans'],\n",
    "                                  as_index=False).size()\n",
    "\n",
    "fig = px.bar(data_clustered, x='EducDeg', y='size',\n",
    "             color=data_clustered['Labels_KMeans'].astype('str'),\n",
    "             barmode='relative', title='Education degree by cluster',\n",
    "             labels={'size': 'Frequency', \n",
    "                     'EducDeg': 'Education degree',\n",
    "                     'color': 'Cluster'},\n",
    "             height=500, width=500)\n",
    "\n",
    "fig.show()"
   ]
  },
  {
   "cell_type": "markdown",
   "id": "66bbd3f2-832a-4c2c-a1da-43ab22391543",
   "metadata": {},
   "source": [
    "**Cluster 2** tends to be of people with higher education.\n",
    "\n",
    "People with basic education tend to be in **cluster 0** (youngest), nevertheless the cluster is composed of people with different levels of education in similar frequency until BSc/MSc.\n",
    "\n",
    "People from **cluster 1** (the oldest) tend to be more educated between highschool and Bachelor's/Master's."
   ]
  },
  {
   "cell_type": "code",
   "execution_count": null,
   "id": "31b4ed17-952f-4935-892b-d986d8a239e9",
   "metadata": {},
   "outputs": [],
   "source": [
    "# Comparing two cathegorical variables\n",
    "data_clustered = data_imputed[['Children', 'Labels_KMeans']]\n",
    "data_clustered = data_clustered.groupby(['Children', 'Labels_KMeans'],\n",
    "                                  as_index=False).size()\n",
    "\n",
    "fig = px.bar(data_clustered, x='Children', y='size',\n",
    "             color=data_clustered['Labels_KMeans'].astype('str'),\n",
    "             barmode='relative', title='Children by cluster',\n",
    "             labels={'size': 'Frequency',\n",
    "                     'color': 'Cluster'},\n",
    "             height=500, width=500)\n",
    "\n",
    "fig.show()"
   ]
  },
  {
   "cell_type": "markdown",
   "id": "48e8d192-7f06-49e2-a301-643e92d297c7",
   "metadata": {},
   "source": [
    "Most people without children belong to **cluster 1**, while in **clusters 0 and 2** tend to have children."
   ]
  },
  {
   "cell_type": "markdown",
   "id": "H1vJapxMhhbu",
   "metadata": {
    "id": "H1vJapxMhhbu"
   },
   "source": [
    "<div class=\"alert alert-block alert-success\">\n",
    "<a class=\"anchor\" id=\"kmedoids\"> \n",
    "<h2>5.3. KMedoids</h2>\n",
    "</a>    \n",
    "</div>"
   ]
  },
  {
   "cell_type": "code",
   "execution_count": null,
   "id": "zyazCMT_ROyo",
   "metadata": {
    "id": "zyazCMT_ROyo"
   },
   "outputs": [],
   "source": [
    "inertias = []\n",
    "k_vals = range(1, 20)\n",
    "for k in k_vals:\n",
    "    kmed = KMedoids(n_clusters=k, random_state=42)\n",
    "    kmed.fit(df[best_feats])\n",
    "    inertias.append(kmed.inertia_)"
   ]
  },
  {
   "cell_type": "code",
   "execution_count": null,
   "id": "6I3rzKUMSC3s",
   "metadata": {
    "id": "6I3rzKUMSC3s"
   },
   "outputs": [],
   "source": [
    "fig = px.line(x=k_vals, y=inertias, height=500, width=700,\n",
    "              labels={'x':'k', 'y':'Inertia'})\n",
    "fig.show()"
   ]
  },
  {
   "cell_type": "code",
   "execution_count": null,
   "id": "ii7CD0__T_9w",
   "metadata": {
    "id": "ii7CD0__T_9w"
   },
   "outputs": [],
   "source": [
    "k = 3\n",
    "kmedoids = KMedoids(n_clusters=k, random_state=42)\n",
    "distances_kmedoids = kmedoids.fit_transform(df[best_feats])\n",
    "labels_kmedoids = kmedoids.labels_"
   ]
  },
  {
   "cell_type": "code",
   "execution_count": null,
   "id": "jBkk1VZwUczj",
   "metadata": {
    "id": "jBkk1VZwUczj"
   },
   "outputs": [],
   "source": [
    "labels_str_kmedoids = labels_kmedoids.astype('str')\n",
    "scatter_matrix(df, best_feats, color=labels_str_kmedoids, \n",
    "               width=800, height=800,\n",
    "               title='Scatter matrix of metric features, KMedoids Clusters')"
   ]
  },
  {
   "cell_type": "code",
   "execution_count": null,
   "id": "b6EFn-ZXVHRm",
   "metadata": {
    "id": "b6EFn-ZXVHRm"
   },
   "outputs": [],
   "source": [
    "# plot clusters cardinality\n",
    "\n",
    "freq_cluster = df.groupby(labels_kmedoids).size()\n",
    "fig = px.bar(x=range(k), y=freq_cluster,\n",
    "             title='Cluster cardinality', color=[str(i) for i in range(k)])\n",
    "fig.update_xaxes(type='category')\n",
    "fig.update_layout(\n",
    "    xaxis_title='Cluster',\n",
    "    yaxis_title='Sum of distances to centroid',\n",
    "    legend_title='Cluster',\n",
    "    width=500, height=500\n",
    ")\n",
    "fig.show()\n"
   ]
  },
  {
   "cell_type": "code",
   "execution_count": null,
   "id": "HS7yZe_dVHRr",
   "metadata": {
    "id": "HS7yZe_dVHRr"
   },
   "outputs": [],
   "source": [
    "# Plot clusters magnitude\n",
    "df['distanceToCentroid'] = np.min(distances_kmedoids, axis=1)\n",
    "magnitud = df.groupby(labels_kmedoids).sum()['distanceToCentroid']\n",
    "df.drop('distanceToCentroid', axis=1, inplace=True)\n",
    "fig = px.bar(x=magnitud.index, y=magnitud.values,\n",
    "             color=[str(i) for i in range(k)])\n",
    "fig.update_xaxes(type='category')\n",
    "fig.update_layout(\n",
    "    xaxis_title='Cluster',\n",
    "    yaxis_title='Sum of distances to centroid',\n",
    "    legend_title='Cluster',\n",
    "    width=500, height=500\n",
    ")\n",
    "fig.show()"
   ]
  },
  {
   "cell_type": "markdown",
   "id": "S7aGYzurVHRt",
   "metadata": {
    "id": "S7aGYzurVHRt"
   },
   "source": [
    "Cluster magnitude is the sum of distances from all examples to the centroid of the cluster."
   ]
  },
  {
   "cell_type": "code",
   "execution_count": null,
   "id": "KzbKcR6_VHRu",
   "metadata": {
    "id": "KzbKcR6_VHRu"
   },
   "outputs": [],
   "source": [
    "# plot cardinality vs magnitud\n",
    "\n",
    "fig = px.scatter(x=freq_cluster, y=magnitud, trendline='ols',\n",
    "                 title='Magnitud vs. Cardinality')\n",
    "fig.update_layout(\n",
    "    xaxis_title='Cardinality',\n",
    "    yaxis_title='Magnitud',\n",
    "    width=700,\n",
    "    height=500\n",
    ")\n",
    "fig.show()\n",
    "results = px.get_trendline_results(fig)\n",
    "results.px_fit_results.iloc[0].summary()"
   ]
  },
  {
   "cell_type": "markdown",
   "id": "jn3ln1CRVHRx",
   "metadata": {
    "id": "jn3ln1CRVHRx"
   },
   "source": [
    "Notice that a higher cluster cardinality tends to result in a higher cluster magnitude, which intuitively makes sense. Clusters are anomalous when cardinality doesn't correlate with magnitude relative to the other clusters."
   ]
  },
  {
   "cell_type": "code",
   "execution_count": null,
   "id": "Q3zLFhNQVHRz",
   "metadata": {
    "id": "Q3zLFhNQVHRz"
   },
   "outputs": [],
   "source": [
    "fig = px.scatter(x=data_pca[:, 0], y=data_pca[:, 1],\n",
    "                 color=labels_str_kmedoids)\n",
    "fig.update_traces(\n",
    "    marker=dict(line=dict(color='white', width=0.7),\n",
    "                size=7)\n",
    ")\n",
    "fig.update_layout(\n",
    "    xaxis_title='PC 1',\n",
    "    yaxis_title='PC 2',\n",
    "    legend_title='Cluster',\n",
    "    title='Clusters of data by PC',\n",
    "    height=500,\n",
    "    width=500\n",
    ")\n",
    "fig.show()"
   ]
  },
  {
   "cell_type": "code",
   "execution_count": null,
   "id": "GB9Aten4VHR1",
   "metadata": {
    "id": "GB9Aten4VHR1"
   },
   "outputs": [],
   "source": [
    "fig = px.scatter_3d(x=data_pca[:, 0], y=data_pca[:, 1],\n",
    "                    z=data_pca[:, 2], width=700,\n",
    "                    color=labels_str_kmedoids, height=700,\n",
    "                    labels={'x': 'PC 1', 'y':'PC 2', 'z':'PC 3'})\n",
    "fig.update_traces(\n",
    "    marker=dict(line=dict(color='white', width=0.7),\n",
    "                size=5)\n",
    ")\n",
    "fig.update_layout(\n",
    "    legend_title='Cluster',\n",
    "    title='Clusters of data by PC',\n",
    "    margin=dict(\n",
    "    l=40, r=40, b=100, t=100, pad=4\n",
    "    )\n",
    ")\n",
    "fig.show()"
   ]
  },
  {
   "cell_type": "code",
   "execution_count": null,
   "id": "6cc40465-bd9c-4885-8eda-d44506a5e5d3",
   "metadata": {},
   "outputs": [],
   "source": [
    "fig = px.scatter(x=tsne_data[:, 0], y=tsne_data[:, 1],\n",
    "                 color=labels_str_kmedoids, opacity=0.8)\n",
    "fig.update_traces(\n",
    "    marker=dict(line=dict(color='white', width=0.2),\n",
    "                size=4)\n",
    ")\n",
    "fig.update_layout(\n",
    "    xaxis_title='First Component',\n",
    "    yaxis_title='Second Component',\n",
    "    legend_title='Cluster',\n",
    "    title='t-sne visualization',\n",
    "    height=500,\n",
    "    width=500\n",
    ")\n",
    "fig.show()"
   ]
  },
  {
   "cell_type": "code",
   "execution_count": null,
   "id": "6Rj4_knnVHR2",
   "metadata": {
    "id": "6Rj4_knnVHR2"
   },
   "outputs": [],
   "source": [
    "data_imputed['Labels_kmedoids'] = labels_kmedoids"
   ]
  },
  {
   "cell_type": "code",
   "execution_count": null,
   "id": "30c94633-bc85-47fe-a162-fdc714116df3",
   "metadata": {},
   "outputs": [],
   "source": [
    "boxplot_labels(data_imputed, 'Labels_kmedoids')"
   ]
  },
  {
   "cell_type": "code",
   "execution_count": null,
   "id": "ae53f396-e50d-4c44-86d9-bf3e2533234d",
   "metadata": {},
   "outputs": [],
   "source": [
    "# Comparing two cathegorical variables\n",
    "data_clustered = data_imputed[['EducDeg', 'Labels_kmedoids']]\n",
    "data_clustered = data_clustered.groupby(['EducDeg', 'Labels_kmedoids'],\n",
    "                                  as_index=False).size()\n",
    "\n",
    "fig = px.bar(data_clustered, x='EducDeg', y='size',\n",
    "             color=data_clustered['Labels_kmedoids'].astype('str'),\n",
    "             barmode='relative', title='Education degree by cluster',\n",
    "             labels={'size': 'Frequency', \n",
    "                     'EducDeg': 'Education degree',\n",
    "                     'color': 'Cluster'},\n",
    "             height=500, width=500)\n",
    "\n",
    "fig.show()"
   ]
  },
  {
   "cell_type": "code",
   "execution_count": null,
   "id": "8890f736-3ad9-4260-a7a2-09805d7eac85",
   "metadata": {},
   "outputs": [],
   "source": [
    "# Comparing two cathegorical variables\n",
    "data_clustered = data_imputed[['Children', 'Labels_kmedoids']]\n",
    "data_clustered = data_clustered.groupby(['Children', 'Labels_kmedoids'],\n",
    "                                  as_index=False).size()\n",
    "\n",
    "fig = px.bar(data_clustered, x='Children', y='size',\n",
    "             color=data_clustered['Labels_kmedoids'].astype('str'),\n",
    "             barmode='relative', title='Children by cluster',\n",
    "             labels={'size': 'Frequency',\n",
    "                     'color': 'Cluster'},\n",
    "             height=500, width=500)\n",
    "\n",
    "fig.show()"
   ]
  },
  {
   "cell_type": "markdown",
   "id": "bCeRfURdZdgp",
   "metadata": {
    "id": "bCeRfURdZdgp"
   },
   "source": [
    "<div class=\"alert alert-block alert-success\">\n",
    "<a class=\"anchor\" id=\"hclustering\"> \n",
    "<h2>5.4. Hierarchical Clustering</h2>\n",
    "</a>    \n",
    "</div>\n"
   ]
  },
  {
   "cell_type": "code",
   "execution_count": null,
   "id": "hrOBzzDSZfzx",
   "metadata": {
    "id": "hrOBzzDSZfzx"
   },
   "outputs": [],
   "source": [
    "h_cluster = linkage(df[best_feats], method='ward', metric='euclidean')"
   ]
  },
  {
   "cell_type": "code",
   "execution_count": null,
   "id": "fPueHnwsaKfk",
   "metadata": {
    "id": "fPueHnwsaKfk"
   },
   "outputs": [],
   "source": [
    "fig = plt.figure(figsize=(12,7))\n",
    "dendrogram(h_cluster, color_threshold=20, \n",
    "           orientation='top', no_labels=True, \n",
    "           above_threshold_color='k')\n",
    "\n",
    "plt.hlines(20, 0, 100000, colors=\"r\", linestyles='dashed')\n",
    "plt.title(\"Hierarchical Clustering - Ward's Dendrogram\", fontsize=23)\n",
    "plt.ylabel('Euclidean Distance', fontsize=13)\n",
    "plt.show()"
   ]
  },
  {
   "cell_type": "code",
   "execution_count": null,
   "id": "36542bde-21df-4f91-bb8b-f08e2d8009ee",
   "metadata": {},
   "outputs": [],
   "source": [
    "h_clustering = AgglomerativeClustering(n_clusters=3, affinity='euclidean', \n",
    "                                       linkage='ward')\n",
    "h_clustering.fit(df[best_feats])\n",
    "labels_hcluster = h_clustering.labels_"
   ]
  },
  {
   "cell_type": "code",
   "execution_count": null,
   "id": "8c283010-9446-41d7-a562-265ad3732a2c",
   "metadata": {
    "id": "jBkk1VZwUczj"
   },
   "outputs": [],
   "source": [
    "labels_str_hcluster = labels_hcluster.astype('str')\n",
    "scatter_matrix(df, best_feats, color=labels_str_hcluster, \n",
    "               width=800, height=800,\n",
    "               title='Scatter matrix of metric features, Heirarchical Clusters')"
   ]
  },
  {
   "cell_type": "code",
   "execution_count": null,
   "id": "ba8665c4-d390-493a-80c8-2cea761650a8",
   "metadata": {
    "id": "Q3zLFhNQVHRz"
   },
   "outputs": [],
   "source": [
    "fig = px.scatter(x=data_pca[:, 0], y=data_pca[:, 1],\n",
    "                 color=labels_str_hcluster, opacity=0.8)\n",
    "fig.update_traces(\n",
    "    marker=dict(line=dict(color='white', width=0.7),\n",
    "                size=7)\n",
    ")\n",
    "fig.update_layout(\n",
    "    xaxis_title='PC 1',\n",
    "    yaxis_title='PC 2',\n",
    "    legend_title='Cluster',\n",
    "    title='Clusters of data by PC',\n",
    "    height=500,\n",
    "    width=500\n",
    ")\n",
    "fig.show()"
   ]
  },
  {
   "cell_type": "code",
   "execution_count": null,
   "id": "1ce5ed3d-fde1-4204-a586-5095d86e91f2",
   "metadata": {
    "id": "GB9Aten4VHR1"
   },
   "outputs": [],
   "source": [
    "fig = px.scatter_3d(x=data_pca[:, 0], y=data_pca[:, 1],\n",
    "                    z=data_pca[:, 2], width=700,\n",
    "                    color=labels_str_hcluster, height=700,\n",
    "                    labels={'x': 'PC 1', 'y':'PC 2', 'z':'PC 3'})\n",
    "fig.update_traces(\n",
    "    marker=dict(line=dict(color='white', width=0.7),\n",
    "                size=5)\n",
    ")\n",
    "fig.update_layout(\n",
    "    legend_title='Cluster',\n",
    "    title='Clusters of data by PC',\n",
    "    margin=dict(\n",
    "    l=40, r=40, b=100, t=100, pad=4\n",
    "    )\n",
    ")\n",
    "fig.show()"
   ]
  },
  {
   "cell_type": "code",
   "execution_count": null,
   "id": "5c98e903-dee4-42eb-af6c-c77521a36fda",
   "metadata": {},
   "outputs": [],
   "source": [
    "fig = px.scatter(x=tsne_data[:, 0], y=tsne_data[:, 1],\n",
    "                 color=labels_str_hcluster, opacity=0.8)\n",
    "fig.update_traces(\n",
    "    marker=dict(line=dict(color='white', width=0.2),\n",
    "                size=4)\n",
    ")\n",
    "fig.update_layout(\n",
    "    xaxis_title='First Component',\n",
    "    yaxis_title='Second Component',\n",
    "    legend_title='Cluster',\n",
    "    title='t-sne visualization',\n",
    "    height=500,\n",
    "    width=500\n",
    ")\n",
    "fig.show()"
   ]
  },
  {
   "cell_type": "code",
   "execution_count": null,
   "id": "9c912090-e3d8-4e82-9a8b-647fb175561b",
   "metadata": {},
   "outputs": [],
   "source": [
    "data_imputed['Labels_hcluster'] = labels_hcluster"
   ]
  },
  {
   "cell_type": "code",
   "execution_count": null,
   "id": "358a63b4-2812-4603-a70a-8e7644c2de72",
   "metadata": {},
   "outputs": [],
   "source": [
    "boxplot_labels(data_imputed, 'Labels_hcluster')"
   ]
  },
  {
   "cell_type": "code",
   "execution_count": null,
   "id": "b962712a-c382-45ac-b9f8-3976f1909a85",
   "metadata": {},
   "outputs": [],
   "source": [
    "# Comparing two cathegorical variables\n",
    "data_clustered = data_imputed[['EducDeg', 'Labels_hcluster']]\n",
    "data_clustered = data_clustered.groupby(['EducDeg', 'Labels_hcluster'],\n",
    "                                  as_index=False).size()\n",
    "\n",
    "fig = px.bar(data_clustered, x='EducDeg', y='size',\n",
    "             color=data_clustered['Labels_hcluster'].astype('str'),\n",
    "             barmode='relative', title='Education degree by cluster',\n",
    "             labels={'size': 'Frequency', \n",
    "                     'EducDeg': 'Education degree',\n",
    "                     'color': 'Cluster'},\n",
    "             height=500, width=500)\n",
    "\n",
    "fig.show()"
   ]
  },
  {
   "cell_type": "code",
   "execution_count": null,
   "id": "eba99953-d7f4-4379-a323-79cd9af98d7f",
   "metadata": {},
   "outputs": [],
   "source": [
    "# Comparing two cathegorical variables\n",
    "data_clustered = data_imputed[['Children', 'Labels_hcluster']]\n",
    "data_clustered = data_clustered.groupby(['Children', 'Labels_hcluster'],\n",
    "                                  as_index=False).size()\n",
    "\n",
    "fig = px.bar(data_clustered, x='Children', y='size',\n",
    "             color=data_clustered['Labels_hcluster'].astype('str'),\n",
    "             barmode='relative', title='Education degree by cluster',\n",
    "             labels={'size': 'Frequency',\n",
    "                     'color': 'Cluster'},\n",
    "             height=500, width=500)\n",
    "\n",
    "fig.show()"
   ]
  },
  {
   "cell_type": "markdown",
   "id": "da9e20e3-27a0-430e-bcd4-247df43f7a15",
   "metadata": {},
   "source": [
    "## Initial conlusions"
   ]
  },
  {
   "cell_type": "markdown",
   "id": "198613fe-2773-4c8a-a495-f7b03c72f50e",
   "metadata": {},
   "source": [
    "Except for DBSCAN, the three algorithms segment the clients in a similar fashion, mainly by age.\n",
    "\n",
    "We have three groups wich can be called Senior, Middle, and Junior.\n",
    "\n",
    "KMeans showed better differentiation in the boxplots.\n",
    "\n",
    "**Middle age group**: tend to have lower anual premiums in work, life, Health, and Household and higher premiums in motor insurances.\n",
    "\n",
    "**Junior age group**: tend to have in average higher Anual Premiums in work, life, Health, and Household and lower in motor premium insurances.\n",
    "\n",
    "**Senior age group**: tend to have in average, an intermediate value in anual premiums in all categories."
   ]
  },
  {
   "cell_type": "code",
   "execution_count": null,
   "id": "388da52f-7dfb-4d1a-87f8-5b08928fc14d",
   "metadata": {},
   "outputs": [],
   "source": [
    "def percentile(n):\n",
    "    def percentile_(x):\n",
    "        return np.percentile(x, n)\n",
    "    percentile_.__name__ = f'{n}%'\n",
    "    return percentile_"
   ]
  },
  {
   "cell_type": "code",
   "execution_count": null,
   "id": "6a02212f-850c-404e-b43f-3c90ee632515",
   "metadata": {},
   "outputs": [],
   "source": [
    "data_imputed['Age'] = 2016 - data_imputed['BirthYear']"
   ]
  },
  {
   "cell_type": "code",
   "execution_count": null,
   "id": "d3fc6fdc-7753-4ea1-b205-aacd0ec4e1c1",
   "metadata": {},
   "outputs": [],
   "source": [
    "data_imputed.groupby('Labels_KMeans')['Age'].agg(['count', 'mean', \n",
    "                                          'median', 'min', \n",
    "                                          'max', percentile(25),\n",
    "                                          percentile(75),\n",
    "                                          'std'])"
   ]
  },
  {
   "cell_type": "code",
   "execution_count": null,
   "id": "b2abb410-5c99-460f-ae67-48c8e328102e",
   "metadata": {},
   "outputs": [],
   "source": [
    "fig = px.box(data_imputed, \n",
    "             y='Age', color='Labels_KMeans')\n",
    "fig.update_layout(legend_title='Cluster',\n",
    "                  width=700, height=500,\n",
    "                  xaxis_title='Cluster',\n",
    "                  yaxis_title='Age')\n",
    "fig.show()"
   ]
  },
  {
   "cell_type": "markdown",
   "id": "0ef4af97-db46-472d-89a6-c6478b707349",
   "metadata": {},
   "source": [
    "<div class=\"alert alert-block alert-info\">\n",
    "<a class=\"anchor\" id=\"semi_learning\"> \n",
    "<h1>6. EXTRA - Semi-Supervised Learning</h1>\n",
    "</a>    \n",
    "</div>\n"
   ]
  },
  {
   "cell_type": "markdown",
   "id": "97fe9b9f-f7c1-4daa-b827-555f5f8432ca",
   "metadata": {},
   "source": [
    "The labels created with KMeans can be used to predict the group of clients in unseen data from the KMeans model. for that a Supervised Learning algorithm can be used.\n",
    "\n",
    "First the data is splitted in train and test set.\n",
    "\n",
    "The data used is the data with original features without 'GeoLivArea', imputed and scaled with z-score."
   ]
  },
  {
   "cell_type": "code",
   "execution_count": null,
   "id": "sOARp3PSyKQt",
   "metadata": {
    "id": "sOARp3PSyKQt"
   },
   "outputs": [],
   "source": [
    "X_train, X_test, y_train, y_test = train_test_split(df[data.drop('GeoLivArea', axis=1).columns].astype('float64'), \n",
    "                                                    labels_kmeans, test_size=0.2, \n",
    "                                                    random_state=42)"
   ]
  },
  {
   "cell_type": "markdown",
   "id": "5599bdcb-9f78-469c-bdfd-9cba11ad86de",
   "metadata": {},
   "source": [
    "The features used are the numerical variables from the original data.\n",
    "\n",
    "The model will be developed with Xtreme Gradient Boosting using Decision Trees."
   ]
  },
  {
   "cell_type": "code",
   "execution_count": null,
   "id": "WdhEFCwVyKQx",
   "metadata": {
    "id": "WdhEFCwVyKQx"
   },
   "outputs": [],
   "source": [
    "xgbc = XGBClassifier()\n",
    "xgbc.fit(X_train, y_train)"
   ]
  },
  {
   "cell_type": "code",
   "execution_count": null,
   "id": "pRocBQcLyKQ0",
   "metadata": {
    "id": "pRocBQcLyKQ0"
   },
   "outputs": [],
   "source": [
    "y_pred = xgbc.predict(X_test)\n",
    "features_importances = xgbc.feature_importances_\n",
    "columns = data.drop('GeoLivArea', axis=1).columns\n",
    "features_importances = zip(columns, features_importances)\n",
    "pd.DataFrame(features_importances).sort_values(1, ascending=False)"
   ]
  },
  {
   "cell_type": "code",
   "execution_count": null,
   "id": "71YzpnK6yKQ1",
   "metadata": {
    "id": "71YzpnK6yKQ1"
   },
   "outputs": [],
   "source": [
    "from sklearn.metrics import confusion_matrix\n",
    "cm = confusion_matrix(y_test, y_pred, labels=np.unique(y_test))\n",
    "\n",
    "cm_heatmap = px.imshow(cm, text_auto=True,\n",
    "                       title='Confusion Matrix',\n",
    "                       color_continuous_scale='rdbu')\n",
    "\n",
    "cm_heatmap.update_layout(\n",
    "    yaxis_title=\"Actual\",\n",
    "    xaxis_title=\"Predicted\",\n",
    "    autosize=False,\n",
    "    width=500\n",
    ")\n",
    "cm_heatmap.show()"
   ]
  },
  {
   "cell_type": "markdown",
   "id": "81d15603-e2d6-4681-beb8-ca9e1f8e365c",
   "metadata": {
    "tags": []
   },
   "source": [
    "The diagonal values corresponds to correct prediction for each label. \n",
    "\n",
    "The labels obtained can be correctly predicted by the XGBoost Classifier."
   ]
  },
  {
   "cell_type": "code",
   "execution_count": null,
   "id": "f55a50b3-ae76-4c56-8fe4-4237f266f288",
   "metadata": {},
   "outputs": [],
   "source": [
    "print(' -------------------------------------\\n'\n",
    "    f'| F1 Score of the prediciton is: '\n",
    "    f'{round(f1_score(y_test, y_pred, average=\"macro\", labels=[0, 1, 2]), 2)} |\\n'\n",
    "     ' -------------------------------------')"
   ]
  }
 ],
 "metadata": {
  "colab": {
   "provenance": []
  },
  "kernelspec": {
   "display_name": "Python 3 (ipykernel)",
   "language": "python",
   "name": "python3"
  },
  "language_info": {
   "codemirror_mode": {
    "name": "ipython",
    "version": 3
   },
   "file_extension": ".py",
   "mimetype": "text/x-python",
   "name": "python",
   "nbconvert_exporter": "python",
   "pygments_lexer": "ipython3",
   "version": "3.11.1"
  },
  "vscode": {
   "interpreter": {
    "hash": "ad477d07942d602da38df819c4d50c8f3216d2873b13f2aeea957b92ede9ffee"
   }
  }
 },
 "nbformat": 4,
 "nbformat_minor": 5
}
